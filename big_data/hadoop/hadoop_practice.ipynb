{
 "cells": [
  {
   "cell_type": "code",
   "execution_count": 32,
   "metadata": {},
   "outputs": [],
   "source": [
    "import os\n",
    "os.environ[\"JAVA_HOME\"] = \"/usr/lib/jvm/java-8-openjdk-amd64\"\n",
    "os.environ[\"HADOOP_HOME\"] = \"/home/takosaga/hadoop-2.9.2\"\n",
    "os.environ[\"PATH\"] += os.pathsep + os.path.join(os.environ[\"HADOOP_HOME\"], \"bin\")"
   ]
  },
  {
   "cell_type": "code",
   "execution_count": 10,
   "metadata": {},
   "outputs": [
    {
     "name": "stdout",
     "output_type": "stream",
     "text": [
      "Overwriting mapper.py\n"
     ]
    }
   ],
   "source": [
    "%%writefile mapper.py\n",
    "#!/usr/bin/env python3\n",
    "import sys\n",
    "for line in sys.stdin:\n",
    "    line = line.strip()\n",
    "    words = line.split()\n",
    "    for word in words:\n",
    "        print('%s\\t%s' % (word, 1))"
   ]
  },
  {
   "cell_type": "code",
   "execution_count": 11,
   "metadata": {},
   "outputs": [
    {
     "name": "stdout",
     "output_type": "stream",
     "text": [
      "Overwriting reducer.py\n"
     ]
    }
   ],
   "source": [
    "%%writefile reducer.py\n",
    "#!/usr/bin/env python3\n",
    "import sys\n",
    "current_word = None\n",
    "current_count = 0\n",
    "word = None\n",
    "\n",
    "for line in sys.stdin:\n",
    "    line = line.strip()\n",
    "    word, count = line.split('\\t', 1)\n",
    "    try:\n",
    "        count = int(count)\n",
    "    except ValueError:\n",
    "        continue\n",
    "    if current_word == word:\n",
    "        current_count += count\n",
    "    else:\n",
    "        if current_word:\n",
    "            print('%s\\t%s' % (current_word, current_count))\n",
    "        current_count = count\n",
    "        current_word = word\n",
    "if current_word == word:\n",
    "    print('%s\\t%s' % (current_word, current_count))"
   ]
  },
  {
   "cell_type": "code",
   "execution_count": 12,
   "metadata": {},
   "outputs": [
    {
     "name": "stdout",
     "output_type": "stream",
     "text": [
      "Overwriting sample.txt\n"
     ]
    }
   ],
   "source": [
    "%%writefile sample.txt\n",
    "Hello Hadoop\n",
    "Goodbye Hadoop\n",
    "Hello World\n",
    "Goodbye World"
   ]
  },
  {
   "cell_type": "code",
   "execution_count": 33,
   "metadata": {},
   "outputs": [
    {
     "name": "stdout",
     "output_type": "stream",
     "text": [
      "24/10/19 15:19:19 INFO Configuration.deprecation: session.id is deprecated. Instead, use dfs.metrics.session-id\n",
      "24/10/19 15:19:19 INFO jvm.JvmMetrics: Initializing JVM Metrics with processName=JobTracker, sessionId=\n",
      "24/10/19 15:19:19 INFO jvm.JvmMetrics: Cannot initialize JVM Metrics with processName=JobTracker, sessionId= - already initialized\n",
      "24/10/19 15:19:19 INFO mapred.FileInputFormat: Total input files to process : 1\n",
      "24/10/19 15:19:19 INFO mapreduce.JobSubmitter: number of splits:1\n",
      "24/10/19 15:19:19 INFO mapreduce.JobSubmitter: Submitting tokens for job: job_local38544000_0001\n",
      "24/10/19 15:19:19 INFO mapred.LocalDistributedCacheManager: Localized file:/home/takosaga/Projects/fall_24/big_data/hadoop/mapper.py as file:/tmp/hadoop-takosaga/mapred/local/1729340359439/mapper.py\n",
      "24/10/19 15:19:19 INFO mapred.LocalDistributedCacheManager: Localized file:/home/takosaga/Projects/fall_24/big_data/hadoop/reducer.py as file:/tmp/hadoop-takosaga/mapred/local/1729340359440/reducer.py\n",
      "24/10/19 15:19:19 INFO mapreduce.Job: The url to track the job: http://localhost:8080/\n",
      "24/10/19 15:19:19 INFO mapreduce.Job: Running job: job_local38544000_0001\n",
      "24/10/19 15:19:19 INFO mapred.LocalJobRunner: OutputCommitter set in config null\n",
      "24/10/19 15:19:19 INFO mapred.LocalJobRunner: OutputCommitter is org.apache.hadoop.mapred.FileOutputCommitter\n",
      "24/10/19 15:19:19 INFO output.FileOutputCommitter: File Output Committer Algorithm version is 1\n",
      "24/10/19 15:19:19 INFO output.FileOutputCommitter: FileOutputCommitter skip cleanup _temporary folders under output directory:false, ignore cleanup failures: false\n",
      "24/10/19 15:19:19 INFO mapred.LocalJobRunner: Waiting for map tasks\n",
      "24/10/19 15:19:19 INFO mapred.LocalJobRunner: Starting task: attempt_local38544000_0001_m_000000_0\n",
      "24/10/19 15:19:19 INFO output.FileOutputCommitter: File Output Committer Algorithm version is 1\n",
      "24/10/19 15:19:19 INFO output.FileOutputCommitter: FileOutputCommitter skip cleanup _temporary folders under output directory:false, ignore cleanup failures: false\n",
      "24/10/19 15:19:19 INFO mapred.Task:  Using ResourceCalculatorProcessTree : [ ]\n",
      "24/10/19 15:19:19 INFO mapred.MapTask: Processing split: file:/home/takosaga/Projects/fall_24/big_data/hadoop/sample.txt:0+54\n",
      "24/10/19 15:19:19 INFO mapred.MapTask: numReduceTasks: 1\n",
      "24/10/19 15:19:19 INFO mapred.MapTask: (EQUATOR) 0 kvi 26214396(104857584)\n",
      "24/10/19 15:19:19 INFO mapred.MapTask: mapreduce.task.io.sort.mb: 100\n",
      "24/10/19 15:19:19 INFO mapred.MapTask: soft limit at 83886080\n",
      "24/10/19 15:19:19 INFO mapred.MapTask: bufstart = 0; bufvoid = 104857600\n",
      "24/10/19 15:19:19 INFO mapred.MapTask: kvstart = 26214396; length = 6553600\n",
      "24/10/19 15:19:19 INFO mapred.MapTask: Map output collector class = org.apache.hadoop.mapred.MapTask$MapOutputBuffer\n",
      "24/10/19 15:19:19 INFO streaming.PipeMapRed: PipeMapRed exec [/home/takosaga/Projects/fall_24/big_data/hadoop/./mapper.py]\n",
      "24/10/19 15:19:19 INFO Configuration.deprecation: mapred.work.output.dir is deprecated. Instead, use mapreduce.task.output.dir\n",
      "24/10/19 15:19:19 INFO Configuration.deprecation: map.input.start is deprecated. Instead, use mapreduce.map.input.start\n",
      "24/10/19 15:19:19 INFO Configuration.deprecation: mapred.task.is.map is deprecated. Instead, use mapreduce.task.ismap\n",
      "24/10/19 15:19:19 INFO Configuration.deprecation: mapred.task.id is deprecated. Instead, use mapreduce.task.attempt.id\n",
      "24/10/19 15:19:19 INFO Configuration.deprecation: mapred.tip.id is deprecated. Instead, use mapreduce.task.id\n",
      "24/10/19 15:19:19 INFO Configuration.deprecation: mapred.local.dir is deprecated. Instead, use mapreduce.cluster.local.dir\n",
      "24/10/19 15:19:19 INFO Configuration.deprecation: map.input.file is deprecated. Instead, use mapreduce.map.input.file\n",
      "24/10/19 15:19:19 INFO Configuration.deprecation: mapred.skip.on is deprecated. Instead, use mapreduce.job.skiprecords\n",
      "24/10/19 15:19:19 INFO Configuration.deprecation: map.input.length is deprecated. Instead, use mapreduce.map.input.length\n",
      "24/10/19 15:19:19 INFO Configuration.deprecation: mapred.job.id is deprecated. Instead, use mapreduce.job.id\n",
      "24/10/19 15:19:19 INFO Configuration.deprecation: user.name is deprecated. Instead, use mapreduce.job.user.name\n",
      "24/10/19 15:19:19 INFO Configuration.deprecation: mapred.task.partition is deprecated. Instead, use mapreduce.task.partition\n",
      "24/10/19 15:19:19 INFO streaming.PipeMapRed: R/W/S=1/0/0 in:NA [rec/s] out:NA [rec/s]\n",
      "24/10/19 15:19:19 INFO streaming.PipeMapRed: Records R/W=4/1\n",
      "24/10/19 15:19:19 INFO streaming.PipeMapRed: MRErrorThread done\n",
      "24/10/19 15:19:19 INFO streaming.PipeMapRed: mapRedFinished\n",
      "24/10/19 15:19:19 INFO mapred.LocalJobRunner: \n",
      "24/10/19 15:19:19 INFO mapred.MapTask: Starting flush of map output\n",
      "24/10/19 15:19:19 INFO mapred.MapTask: Spilling map output\n",
      "24/10/19 15:19:19 INFO mapred.MapTask: bufstart = 0; bufend = 70; bufvoid = 104857600\n",
      "24/10/19 15:19:19 INFO mapred.MapTask: kvstart = 26214396(104857584); kvend = 26214368(104857472); length = 29/6553600\n",
      "24/10/19 15:19:19 INFO mapred.MapTask: Finished spill 0\n",
      "24/10/19 15:19:19 INFO mapred.Task: Task:attempt_local38544000_0001_m_000000_0 is done. And is in the process of committing\n",
      "24/10/19 15:19:19 INFO mapred.LocalJobRunner: Records R/W=4/1\n",
      "24/10/19 15:19:19 INFO mapred.Task: Task 'attempt_local38544000_0001_m_000000_0' done.\n",
      "24/10/19 15:19:19 INFO mapred.LocalJobRunner: Finishing task: attempt_local38544000_0001_m_000000_0\n",
      "24/10/19 15:19:19 INFO mapred.LocalJobRunner: map task executor complete.\n",
      "24/10/19 15:19:19 INFO mapred.LocalJobRunner: Waiting for reduce tasks\n",
      "24/10/19 15:19:19 INFO mapred.LocalJobRunner: Starting task: attempt_local38544000_0001_r_000000_0\n",
      "24/10/19 15:19:19 INFO output.FileOutputCommitter: File Output Committer Algorithm version is 1\n",
      "24/10/19 15:19:19 INFO output.FileOutputCommitter: FileOutputCommitter skip cleanup _temporary folders under output directory:false, ignore cleanup failures: false\n",
      "24/10/19 15:19:19 INFO mapred.Task:  Using ResourceCalculatorProcessTree : [ ]\n",
      "24/10/19 15:19:19 INFO mapred.ReduceTask: Using ShuffleConsumerPlugin: org.apache.hadoop.mapreduce.task.reduce.Shuffle@4b7afc75\n",
      "24/10/19 15:19:19 INFO reduce.MergeManagerImpl: MergerManager: memoryLimit=353422528, maxSingleShuffleLimit=88355632, mergeThreshold=233258880, ioSortFactor=10, memToMemMergeOutputsThreshold=10\n",
      "24/10/19 15:19:19 INFO reduce.EventFetcher: attempt_local38544000_0001_r_000000_0 Thread started: EventFetcher for fetching Map Completion Events\n",
      "24/10/19 15:19:19 INFO reduce.LocalFetcher: localfetcher#1 about to shuffle output of map attempt_local38544000_0001_m_000000_0 decomp: 88 len: 92 to MEMORY\n",
      "24/10/19 15:19:19 INFO reduce.InMemoryMapOutput: Read 88 bytes from map-output for attempt_local38544000_0001_m_000000_0\n",
      "24/10/19 15:19:19 INFO reduce.MergeManagerImpl: closeInMemoryFile -> map-output of size: 88, inMemoryMapOutputs.size() -> 1, commitMemory -> 0, usedMemory ->88\n",
      "24/10/19 15:19:19 INFO reduce.EventFetcher: EventFetcher is interrupted.. Returning\n",
      "24/10/19 15:19:19 INFO mapred.LocalJobRunner: 1 / 1 copied.\n",
      "24/10/19 15:19:19 INFO reduce.MergeManagerImpl: finalMerge called with 1 in-memory map-outputs and 0 on-disk map-outputs\n",
      "24/10/19 15:19:19 INFO mapred.Merger: Merging 1 sorted segments\n",
      "24/10/19 15:19:19 INFO mapred.Merger: Down to the last merge-pass, with 1 segments left of total size: 78 bytes\n",
      "24/10/19 15:19:19 INFO reduce.MergeManagerImpl: Merged 1 segments, 88 bytes to disk to satisfy reduce memory limit\n",
      "24/10/19 15:19:19 INFO reduce.MergeManagerImpl: Merging 1 files, 92 bytes from disk\n",
      "24/10/19 15:19:19 INFO reduce.MergeManagerImpl: Merging 0 segments, 0 bytes from memory into reduce\n",
      "24/10/19 15:19:19 INFO mapred.Merger: Merging 1 sorted segments\n",
      "24/10/19 15:19:19 INFO mapred.Merger: Down to the last merge-pass, with 1 segments left of total size: 78 bytes\n",
      "24/10/19 15:19:19 INFO mapred.LocalJobRunner: 1 / 1 copied.\n",
      "24/10/19 15:19:19 INFO streaming.PipeMapRed: PipeMapRed exec [/home/takosaga/Projects/fall_24/big_data/hadoop/./reducer.py]\n",
      "24/10/19 15:19:19 INFO Configuration.deprecation: mapred.job.tracker is deprecated. Instead, use mapreduce.jobtracker.address\n",
      "24/10/19 15:19:19 INFO Configuration.deprecation: mapred.map.tasks is deprecated. Instead, use mapreduce.job.maps\n",
      "24/10/19 15:19:19 INFO streaming.PipeMapRed: R/W/S=1/0/0 in:NA [rec/s] out:NA [rec/s]\n",
      "24/10/19 15:19:19 INFO streaming.PipeMapRed: Records R/W=8/1\n",
      "24/10/19 15:19:19 INFO streaming.PipeMapRed: MRErrorThread done\n",
      "24/10/19 15:19:19 INFO streaming.PipeMapRed: mapRedFinished\n",
      "24/10/19 15:19:19 INFO mapred.Task: Task:attempt_local38544000_0001_r_000000_0 is done. And is in the process of committing\n",
      "24/10/19 15:19:19 INFO mapred.LocalJobRunner: 1 / 1 copied.\n",
      "24/10/19 15:19:19 INFO mapred.Task: Task attempt_local38544000_0001_r_000000_0 is allowed to commit now\n",
      "24/10/19 15:19:19 INFO output.FileOutputCommitter: Saved output of task 'attempt_local38544000_0001_r_000000_0' to file:/home/takosaga/Projects/fall_24/big_data/hadoop/output/_temporary/0/task_local38544000_0001_r_000000\n",
      "24/10/19 15:19:19 INFO mapred.LocalJobRunner: Records R/W=8/1 > reduce\n",
      "24/10/19 15:19:19 INFO mapred.Task: Task 'attempt_local38544000_0001_r_000000_0' done.\n",
      "24/10/19 15:19:19 INFO mapred.LocalJobRunner: Finishing task: attempt_local38544000_0001_r_000000_0\n",
      "24/10/19 15:19:19 INFO mapred.LocalJobRunner: reduce task executor complete.\n",
      "24/10/19 15:19:20 INFO mapreduce.Job: Job job_local38544000_0001 running in uber mode : false\n",
      "24/10/19 15:19:20 INFO mapreduce.Job:  map 100% reduce 100%\n",
      "24/10/19 15:19:20 INFO mapreduce.Job: Job job_local38544000_0001 completed successfully\n",
      "24/10/19 15:19:20 INFO mapreduce.Job: Counters: 30\n",
      "\tFile System Counters\n",
      "\t\tFILE: Number of bytes read=272326\n",
      "\t\tFILE: Number of bytes written=1224551\n",
      "\t\tFILE: Number of read operations=0\n",
      "\t\tFILE: Number of large read operations=0\n",
      "\t\tFILE: Number of write operations=0\n",
      "\tMap-Reduce Framework\n",
      "\t\tMap input records=4\n",
      "\t\tMap output records=8\n",
      "\t\tMap output bytes=70\n",
      "\t\tMap output materialized bytes=92\n",
      "\t\tInput split bytes=115\n",
      "\t\tCombine input records=0\n",
      "\t\tCombine output records=0\n",
      "\t\tReduce input groups=4\n",
      "\t\tReduce shuffle bytes=92\n",
      "\t\tReduce input records=8\n",
      "\t\tReduce output records=4\n",
      "\t\tSpilled Records=16\n",
      "\t\tShuffled Maps =1\n",
      "\t\tFailed Shuffles=0\n",
      "\t\tMerged Map outputs=1\n",
      "\t\tGC time elapsed (ms)=0\n",
      "\t\tTotal committed heap usage (bytes)=1009778688\n",
      "\tShuffle Errors\n",
      "\t\tBAD_ID=0\n",
      "\t\tCONNECTION=0\n",
      "\t\tIO_ERROR=0\n",
      "\t\tWRONG_LENGTH=0\n",
      "\t\tWRONG_MAP=0\n",
      "\t\tWRONG_REDUCE=0\n",
      "\tFile Input Format Counters \n",
      "\t\tBytes Read=54\n",
      "\tFile Output Format Counters \n",
      "\t\tBytes Written=47\n",
      "24/10/19 15:19:20 INFO streaming.StreamJob: Output directory: output\n"
     ]
    }
   ],
   "source": [
    "!$HADOOP_HOME/bin/hadoop jar $HADOOP_HOME/share/hadoop/tools/lib/hadoop-streaming-2.9.2.jar \\\n",
    "-files mapper.py,reducer.py -mapper mapper.py -reducer reducer.py -input sample.txt -output output"
   ]
  }
 ],
 "metadata": {
  "kernelspec": {
   "display_name": "hadoop_practice",
   "language": "python",
   "name": "python3"
  },
  "language_info": {
   "codemirror_mode": {
    "name": "ipython",
    "version": 3
   },
   "file_extension": ".py",
   "mimetype": "text/x-python",
   "name": "python",
   "nbconvert_exporter": "python",
   "pygments_lexer": "ipython3",
   "version": "3.9.20"
  }
 },
 "nbformat": 4,
 "nbformat_minor": 2
}
