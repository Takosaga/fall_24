{
 "cells": [
  {
   "cell_type": "code",
   "execution_count": 1,
   "metadata": {},
   "outputs": [],
   "source": [
    "import os\n",
    "os.environ[\"JAVA_HOME\"] = \"/usr/lib/jvm/java-8-openjdk-amd64\"\n",
    "os.environ[\"HADOOP_HOME\"] = \"/home/takosaga/hadoop-2.9.2\"\n",
    "os.environ[\"PATH\"] += os.pathsep + os.path.join(os.environ[\"HADOOP_HOME\"], \"bin\")"
   ]
  },
  {
   "cell_type": "code",
   "execution_count": 2,
   "metadata": {},
   "outputs": [
    {
     "name": "stdout",
     "output_type": "stream",
     "text": [
      "Writing temperature_mapper.py\n"
     ]
    }
   ],
   "source": [
    "%%writefile temperature_mapper.py\n",
    "#!/usr/bin/env python3\n",
    "\n",
    "# for interacting with the interpreter\n",
    "import sys\n",
    "\n",
    "# for input stream to python read line by line\n",
    "for line in sys.stdin:\n",
    "    # line stips ends\n",
    "    line = line.strip()\n",
    "    # value gets into two variables of city and temp\n",
    "    city,temp = line.split(',')\n",
    "\n",
    "    try:\n",
    "        temp = float(temp) # try to convert temp to a float\n",
    "        print('%s\\t%s' % (city, temp))\n",
    "    except ValueError:\n",
    "        continue # if temp cant be converted then continue\n"
   ]
  },
  {
   "cell_type": "code",
   "execution_count": 3,
   "metadata": {},
   "outputs": [
    {
     "name": "stdout",
     "output_type": "stream",
     "text": [
      "Writing temperature_reducer.py\n"
     ]
    }
   ],
   "source": [
    "%%writefile temperature_reducer.py\n",
    "#!/usr/bin/env python3\n",
    "\n",
    "import sys\n",
    "\n",
    "# for counters for citys\n",
    "current_city = None\n",
    "current_sum = 0\n",
    "current_count = 0\n",
    "\n",
    "for line in sys.stdin:\n",
    "    line = line.strip()\n",
    "    city, temp = line.split('\\t',1) # since a tab was used in mappers, uses it as delimiter\n",
    "    try:\n",
    "        temp = float(temp)\n",
    "    except ValueError:\n",
    "        continue # double sanity check to see temp is a float\n",
    "\n",
    "    if current_city == city:\n",
    "        #counting\n",
    "        current_sum += temp\n",
    "        current_count += 1\n",
    "    else:\n",
    "        if current_city:\n",
    "            # Output the avg temp for the current city\n",
    "            print('%s\\t%s'%(current_city,current_sum/current_count))\n",
    "        #if not current city then current city changes\n",
    "        current_city = city\n",
    "        current_sum = temp\n",
    "        current_count = 1\n",
    "\n",
    "# output the average temp for the last city\n",
    "if current_city == city:\n",
    "    print('%s\\t%s' % (current_city, current_sum / current_count))"
   ]
  },
  {
   "cell_type": "code",
   "execution_count": 4,
   "metadata": {},
   "outputs": [],
   "source": [
    "!chmod +x mapper.py reducer.py"
   ]
  },
  {
   "cell_type": "code",
   "execution_count": 5,
   "metadata": {},
   "outputs": [
    {
     "name": "stdout",
     "output_type": "stream",
     "text": [
      "Writing temperature_data.txt\n"
     ]
    }
   ],
   "source": [
    "%%writefile temperature_data.txt\n",
    "NewYork,23.5\n",
    "NewYork,25.1\n",
    "NewYork,22.3\n",
    "LosAngeles,30.0\n",
    "LosAngeles,29.8\n",
    "LosAngeles,31.2\n",
    "Chicago,15.5\n",
    "Chicago,14.8\n",
    "Chicago,16.2"
   ]
  },
  {
   "cell_type": "code",
   "execution_count": 7,
   "metadata": {},
   "outputs": [
    {
     "name": "stdout",
     "output_type": "stream",
     "text": [
      "24/10/19 16:48:39 INFO Configuration.deprecation: session.id is deprecated. Instead, use dfs.metrics.session-id\n",
      "24/10/19 16:48:39 INFO jvm.JvmMetrics: Initializing JVM Metrics with processName=JobTracker, sessionId=\n",
      "24/10/19 16:48:39 INFO jvm.JvmMetrics: Cannot initialize JVM Metrics with processName=JobTracker, sessionId= - already initialized\n",
      "24/10/19 16:48:39 INFO mapred.FileInputFormat: Total input files to process : 1\n",
      "24/10/19 16:48:39 INFO mapreduce.JobSubmitter: number of splits:1\n",
      "24/10/19 16:48:39 INFO mapreduce.JobSubmitter: Submitting tokens for job: job_local944594191_0001\n",
      "24/10/19 16:48:39 INFO mapred.LocalDistributedCacheManager: Localized file:/home/takosaga/Projects/fall_24/big_data/hadoop/temperature_mapper.py as file:/tmp/hadoop-takosaga/mapred/local/1729345719618/temperature_mapper.py\n",
      "24/10/19 16:48:39 INFO mapred.LocalDistributedCacheManager: Localized file:/home/takosaga/Projects/fall_24/big_data/hadoop/temperature_reducer.py as file:/tmp/hadoop-takosaga/mapred/local/1729345719619/temperature_reducer.py\n",
      "24/10/19 16:48:39 INFO mapreduce.Job: The url to track the job: http://localhost:8080/\n",
      "24/10/19 16:48:39 INFO mapred.LocalJobRunner: OutputCommitter set in config null\n",
      "24/10/19 16:48:39 INFO mapreduce.Job: Running job: job_local944594191_0001\n",
      "24/10/19 16:48:39 INFO mapred.LocalJobRunner: OutputCommitter is org.apache.hadoop.mapred.FileOutputCommitter\n",
      "24/10/19 16:48:39 INFO output.FileOutputCommitter: File Output Committer Algorithm version is 1\n",
      "24/10/19 16:48:39 INFO output.FileOutputCommitter: FileOutputCommitter skip cleanup _temporary folders under output directory:false, ignore cleanup failures: false\n",
      "24/10/19 16:48:39 INFO mapred.LocalJobRunner: Waiting for map tasks\n",
      "24/10/19 16:48:39 INFO mapred.LocalJobRunner: Starting task: attempt_local944594191_0001_m_000000_0\n",
      "24/10/19 16:48:39 INFO output.FileOutputCommitter: File Output Committer Algorithm version is 1\n",
      "24/10/19 16:48:39 INFO output.FileOutputCommitter: FileOutputCommitter skip cleanup _temporary folders under output directory:false, ignore cleanup failures: false\n",
      "24/10/19 16:48:39 INFO mapred.Task:  Using ResourceCalculatorProcessTree : [ ]\n",
      "24/10/19 16:48:39 INFO mapred.MapTask: Processing split: file:/home/takosaga/Projects/fall_24/big_data/hadoop/temperature_data.txt:0+126\n",
      "24/10/19 16:48:39 INFO mapred.MapTask: numReduceTasks: 1\n",
      "24/10/19 16:48:39 INFO mapred.MapTask: (EQUATOR) 0 kvi 26214396(104857584)\n",
      "24/10/19 16:48:39 INFO mapred.MapTask: mapreduce.task.io.sort.mb: 100\n",
      "24/10/19 16:48:39 INFO mapred.MapTask: soft limit at 83886080\n",
      "24/10/19 16:48:39 INFO mapred.MapTask: bufstart = 0; bufvoid = 104857600\n",
      "24/10/19 16:48:39 INFO mapred.MapTask: kvstart = 26214396; length = 6553600\n",
      "24/10/19 16:48:39 INFO mapred.MapTask: Map output collector class = org.apache.hadoop.mapred.MapTask$MapOutputBuffer\n",
      "24/10/19 16:48:39 INFO streaming.PipeMapRed: PipeMapRed exec [/home/takosaga/Projects/fall_24/big_data/hadoop/./temperature_mapper.py]\n",
      "24/10/19 16:48:39 INFO Configuration.deprecation: mapred.work.output.dir is deprecated. Instead, use mapreduce.task.output.dir\n",
      "24/10/19 16:48:39 INFO Configuration.deprecation: map.input.start is deprecated. Instead, use mapreduce.map.input.start\n",
      "24/10/19 16:48:39 INFO Configuration.deprecation: mapred.task.is.map is deprecated. Instead, use mapreduce.task.ismap\n",
      "24/10/19 16:48:39 INFO Configuration.deprecation: mapred.task.id is deprecated. Instead, use mapreduce.task.attempt.id\n",
      "24/10/19 16:48:39 INFO Configuration.deprecation: mapred.tip.id is deprecated. Instead, use mapreduce.task.id\n",
      "24/10/19 16:48:39 INFO Configuration.deprecation: mapred.local.dir is deprecated. Instead, use mapreduce.cluster.local.dir\n",
      "24/10/19 16:48:39 INFO Configuration.deprecation: map.input.file is deprecated. Instead, use mapreduce.map.input.file\n",
      "24/10/19 16:48:39 INFO Configuration.deprecation: mapred.skip.on is deprecated. Instead, use mapreduce.job.skiprecords\n",
      "24/10/19 16:48:39 INFO Configuration.deprecation: map.input.length is deprecated. Instead, use mapreduce.map.input.length\n",
      "24/10/19 16:48:39 INFO Configuration.deprecation: mapred.job.id is deprecated. Instead, use mapreduce.job.id\n",
      "24/10/19 16:48:39 INFO Configuration.deprecation: user.name is deprecated. Instead, use mapreduce.job.user.name\n",
      "24/10/19 16:48:39 INFO Configuration.deprecation: mapred.task.partition is deprecated. Instead, use mapreduce.task.partition\n",
      "24/10/19 16:48:39 INFO streaming.PipeMapRed: R/W/S=1/0/0 in:NA [rec/s] out:NA [rec/s]\n",
      "24/10/19 16:48:39 INFO streaming.PipeMapRed: Records R/W=9/1\n",
      "24/10/19 16:48:39 INFO streaming.PipeMapRed: MRErrorThread done\n",
      "24/10/19 16:48:39 INFO streaming.PipeMapRed: mapRedFinished\n",
      "24/10/19 16:48:39 INFO mapred.LocalJobRunner: \n",
      "24/10/19 16:48:39 INFO mapred.MapTask: Starting flush of map output\n",
      "24/10/19 16:48:39 INFO mapred.MapTask: Spilling map output\n",
      "24/10/19 16:48:39 INFO mapred.MapTask: bufstart = 0; bufend = 126; bufvoid = 104857600\n",
      "24/10/19 16:48:39 INFO mapred.MapTask: kvstart = 26214396(104857584); kvend = 26214364(104857456); length = 33/6553600\n",
      "24/10/19 16:48:39 INFO mapred.MapTask: Finished spill 0\n",
      "24/10/19 16:48:39 INFO mapred.Task: Task:attempt_local944594191_0001_m_000000_0 is done. And is in the process of committing\n",
      "24/10/19 16:48:39 INFO mapred.LocalJobRunner: Records R/W=9/1\n",
      "24/10/19 16:48:39 INFO mapred.Task: Task 'attempt_local944594191_0001_m_000000_0' done.\n",
      "24/10/19 16:48:39 INFO mapred.LocalJobRunner: Finishing task: attempt_local944594191_0001_m_000000_0\n",
      "24/10/19 16:48:39 INFO mapred.LocalJobRunner: map task executor complete.\n",
      "24/10/19 16:48:39 INFO mapred.LocalJobRunner: Waiting for reduce tasks\n",
      "24/10/19 16:48:39 INFO mapred.LocalJobRunner: Starting task: attempt_local944594191_0001_r_000000_0\n",
      "24/10/19 16:48:39 INFO output.FileOutputCommitter: File Output Committer Algorithm version is 1\n",
      "24/10/19 16:48:39 INFO output.FileOutputCommitter: FileOutputCommitter skip cleanup _temporary folders under output directory:false, ignore cleanup failures: false\n",
      "24/10/19 16:48:39 INFO mapred.Task:  Using ResourceCalculatorProcessTree : [ ]\n",
      "24/10/19 16:48:39 INFO mapred.ReduceTask: Using ShuffleConsumerPlugin: org.apache.hadoop.mapreduce.task.reduce.Shuffle@974df8e\n",
      "24/10/19 16:48:39 INFO reduce.MergeManagerImpl: MergerManager: memoryLimit=353422528, maxSingleShuffleLimit=88355632, mergeThreshold=233258880, ioSortFactor=10, memToMemMergeOutputsThreshold=10\n",
      "24/10/19 16:48:39 INFO reduce.EventFetcher: attempt_local944594191_0001_r_000000_0 Thread started: EventFetcher for fetching Map Completion Events\n",
      "24/10/19 16:48:39 INFO reduce.LocalFetcher: localfetcher#1 about to shuffle output of map attempt_local944594191_0001_m_000000_0 decomp: 146 len: 150 to MEMORY\n",
      "24/10/19 16:48:39 INFO reduce.InMemoryMapOutput: Read 146 bytes from map-output for attempt_local944594191_0001_m_000000_0\n",
      "24/10/19 16:48:39 INFO reduce.MergeManagerImpl: closeInMemoryFile -> map-output of size: 146, inMemoryMapOutputs.size() -> 1, commitMemory -> 0, usedMemory ->146\n",
      "24/10/19 16:48:39 INFO reduce.EventFetcher: EventFetcher is interrupted.. Returning\n",
      "24/10/19 16:48:39 INFO mapred.LocalJobRunner: 1 / 1 copied.\n",
      "24/10/19 16:48:39 INFO reduce.MergeManagerImpl: finalMerge called with 1 in-memory map-outputs and 0 on-disk map-outputs\n",
      "24/10/19 16:48:39 INFO mapred.Merger: Merging 1 sorted segments\n",
      "24/10/19 16:48:39 INFO mapred.Merger: Down to the last merge-pass, with 1 segments left of total size: 136 bytes\n",
      "24/10/19 16:48:39 INFO reduce.MergeManagerImpl: Merged 1 segments, 146 bytes to disk to satisfy reduce memory limit\n",
      "24/10/19 16:48:39 INFO reduce.MergeManagerImpl: Merging 1 files, 150 bytes from disk\n",
      "24/10/19 16:48:39 INFO reduce.MergeManagerImpl: Merging 0 segments, 0 bytes from memory into reduce\n",
      "24/10/19 16:48:39 INFO mapred.Merger: Merging 1 sorted segments\n",
      "24/10/19 16:48:39 INFO mapred.Merger: Down to the last merge-pass, with 1 segments left of total size: 136 bytes\n",
      "24/10/19 16:48:39 INFO mapred.LocalJobRunner: 1 / 1 copied.\n",
      "24/10/19 16:48:39 INFO streaming.PipeMapRed: PipeMapRed exec [/home/takosaga/Projects/fall_24/big_data/hadoop/./temperature_reducer.py]\n",
      "24/10/19 16:48:39 INFO Configuration.deprecation: mapred.job.tracker is deprecated. Instead, use mapreduce.jobtracker.address\n",
      "24/10/19 16:48:39 INFO Configuration.deprecation: mapred.map.tasks is deprecated. Instead, use mapreduce.job.maps\n",
      "24/10/19 16:48:39 INFO streaming.PipeMapRed: R/W/S=1/0/0 in:NA [rec/s] out:NA [rec/s]\n",
      "24/10/19 16:48:39 INFO streaming.PipeMapRed: Records R/W=9/1\n",
      "24/10/19 16:48:39 INFO streaming.PipeMapRed: MRErrorThread done\n",
      "24/10/19 16:48:39 INFO streaming.PipeMapRed: mapRedFinished\n",
      "24/10/19 16:48:39 INFO mapred.Task: Task:attempt_local944594191_0001_r_000000_0 is done. And is in the process of committing\n",
      "24/10/19 16:48:39 INFO mapred.LocalJobRunner: 1 / 1 copied.\n",
      "24/10/19 16:48:39 INFO mapred.Task: Task attempt_local944594191_0001_r_000000_0 is allowed to commit now\n",
      "24/10/19 16:48:39 INFO output.FileOutputCommitter: Saved output of task 'attempt_local944594191_0001_r_000000_0' to file:/home/takosaga/Projects/fall_24/big_data/hadoop/output/_temporary/0/task_local944594191_0001_r_000000\n",
      "24/10/19 16:48:39 INFO mapred.LocalJobRunner: Records R/W=9/1 > reduce\n",
      "24/10/19 16:48:39 INFO mapred.Task: Task 'attempt_local944594191_0001_r_000000_0' done.\n",
      "24/10/19 16:48:39 INFO mapred.LocalJobRunner: Finishing task: attempt_local944594191_0001_r_000000_0\n",
      "24/10/19 16:48:39 INFO mapred.LocalJobRunner: reduce task executor complete.\n",
      "24/10/19 16:48:40 INFO mapreduce.Job: Job job_local944594191_0001 running in uber mode : false\n",
      "24/10/19 16:48:40 INFO mapreduce.Job:  map 100% reduce 100%\n",
      "24/10/19 16:48:40 INFO mapreduce.Job: Job job_local944594191_0001 completed successfully\n",
      "24/10/19 16:48:40 INFO mapreduce.Job: Counters: 30\n",
      "\tFile System Counters\n",
      "\t\tFILE: Number of bytes read=273958\n",
      "\t\tFILE: Number of bytes written=1231068\n",
      "\t\tFILE: Number of read operations=0\n",
      "\t\tFILE: Number of large read operations=0\n",
      "\t\tFILE: Number of write operations=0\n",
      "\tMap-Reduce Framework\n",
      "\t\tMap input records=9\n",
      "\t\tMap output records=9\n",
      "\t\tMap output bytes=126\n",
      "\t\tMap output materialized bytes=150\n",
      "\t\tInput split bytes=125\n",
      "\t\tCombine input records=0\n",
      "\t\tCombine output records=0\n",
      "\t\tReduce input groups=3\n",
      "\t\tReduce shuffle bytes=150\n",
      "\t\tReduce input records=9\n",
      "\t\tReduce output records=3\n",
      "\t\tSpilled Records=18\n",
      "\t\tShuffled Maps =1\n",
      "\t\tFailed Shuffles=0\n",
      "\t\tMerged Map outputs=1\n",
      "\t\tGC time elapsed (ms)=0\n",
      "\t\tTotal committed heap usage (bytes)=1009778688\n",
      "\tShuffle Errors\n",
      "\t\tBAD_ID=0\n",
      "\t\tCONNECTION=0\n",
      "\t\tIO_ERROR=0\n",
      "\t\tWRONG_LENGTH=0\n",
      "\t\tWRONG_MAP=0\n",
      "\t\tWRONG_REDUCE=0\n",
      "\tFile Input Format Counters \n",
      "\t\tBytes Read=126\n",
      "\tFile Output Format Counters \n",
      "\t\tBytes Written=82\n",
      "24/10/19 16:48:40 INFO streaming.StreamJob: Output directory: output\n"
     ]
    }
   ],
   "source": [
    "!$HADOOP_HOME/bin/hadoop jar $HADOOP_HOME/share/hadoop/tools/lib/hadoop-streaming-2.9.2.jar \\\n",
    "-files temperature_mapper.py,temperature_reducer.py -mapper temperature_mapper.py -reducer temperature_reducer.py -input temperature_data.txt -output output"
   ]
  },
  {
   "cell_type": "code",
   "execution_count": 9,
   "metadata": {},
   "outputs": [
    {
     "name": "stdout",
     "output_type": "stream",
     "text": [
      "Chicago\t15.5\n",
      "LosAngeles\t30.333333333333332\n",
      "NewYork\t23.633333333333336\n"
     ]
    }
   ],
   "source": [
    "!cat output/part-00000"
   ]
  }
 ],
 "metadata": {
  "kernelspec": {
   "display_name": "hadoop_practice",
   "language": "python",
   "name": "python3"
  },
  "language_info": {
   "codemirror_mode": {
    "name": "ipython",
    "version": 3
   },
   "file_extension": ".py",
   "mimetype": "text/x-python",
   "name": "python",
   "nbconvert_exporter": "python",
   "pygments_lexer": "ipython3",
   "version": "3.9.20"
  }
 },
 "nbformat": 4,
 "nbformat_minor": 2
}
