{
 "cells": [
  {
   "cell_type": "code",
   "execution_count": 2,
   "metadata": {},
   "outputs": [],
   "source": [
    "import pymongo\n",
    "\n",
    "# Create the client\n",
    "client = pymongo.MongoClient('localhost', 27017)\n",
    "\n",
    "# Connect to our database\n",
    "db = client['local']\n",
    "\n"
   ]
  },
  {
   "cell_type": "code",
   "execution_count": 3,
   "metadata": {},
   "outputs": [],
   "source": [
    "# Create a new document\n",
    "new_document = {\n",
    "    \"name\": \"John\",\n",
    "    \"age\": 30,\n",
    "    \"city\": \"New York\"\n",
    "}"
   ]
  },
  {
   "cell_type": "code",
   "execution_count": 4,
   "metadata": {},
   "outputs": [
    {
     "name": "stdout",
     "output_type": "stream",
     "text": [
      "Inserted document with ID: 671143d1e9166ff53df1175c\n"
     ]
    }
   ],
   "source": [
    "# Insert the document into a collection\n",
    "collection = db.documents\n",
    "inserted_id = collection.insert_one(new_document).inserted_id\n",
    "print(f\"Inserted document with ID: {inserted_id}\")"
   ]
  },
  {
   "cell_type": "code",
   "execution_count": 5,
   "metadata": {},
   "outputs": [
    {
     "name": "stdout",
     "output_type": "stream",
     "text": [
      "{'_id': ObjectId('671143d1e9166ff53df1175c'), 'name': 'John', 'age': 30, 'city': 'New York'}\n"
     ]
    }
   ],
   "source": [
    "# Retrieve documents from a collection \n",
    "documents = collection.find()\n",
    "\n",
    "# Print the retrieved documents\n",
    "for doc in documents:\n",
    "    print(doc)"
   ]
  },
  {
   "cell_type": "code",
   "execution_count": 6,
   "metadata": {},
   "outputs": [
    {
     "data": {
      "text/plain": [
       "UpdateResult({'n': 1, 'nModified': 1, 'ok': 1.0, 'updatedExisting': True}, acknowledged=True)"
      ]
     },
     "execution_count": 6,
     "metadata": {},
     "output_type": "execute_result"
    }
   ],
   "source": [
    "# Update a document in a collection \n",
    "\n",
    "query = {\"name\": \"John\"}\n",
    "new_values = {\"$set\": {\"age\": 31}}\n",
    "collection.update_one(query, new_values)"
   ]
  },
  {
   "cell_type": "code",
   "execution_count": 28,
   "metadata": {},
   "outputs": [
    {
     "data": {
      "text/plain": [
       "DeleteResult({'n': 1, 'ok': 1.0}, acknowledged=True)"
      ]
     },
     "execution_count": 28,
     "metadata": {},
     "output_type": "execute_result"
    }
   ],
   "source": [
    "# Delete a document from a collection\n",
    "query = {\"name\": \"John\"}\n",
    "collection.delete_one(query)"
   ]
  },
  {
   "cell_type": "code",
   "execution_count": 8,
   "metadata": {},
   "outputs": [
    {
     "name": "stdout",
     "output_type": "stream",
     "text": [
      "67114473e9166ff53df1175e\n"
     ]
    }
   ],
   "source": [
    "# inserting data\n",
    "data = {\n",
    "    \"name\": \"John\",\n",
    "    \"age\": 30,\n",
    "    \"city\": \"New York\"\n",
    "}\n",
    "collection = db.sample_collection\n",
    "insert_result = collection.insert_one(data)\n",
    "print(insert_result.inserted_id)"
   ]
  },
  {
   "cell_type": "code",
   "execution_count": 10,
   "metadata": {},
   "outputs": [
    {
     "name": "stdout",
     "output_type": "stream",
     "text": [
      "{'_id': ObjectId('67114466e9166ff53df1175d'), 'name': 'John', 'age': 30, 'city': 'New York'}\n"
     ]
    }
   ],
   "source": [
    "# fetching data (read operation)\n",
    "retrieved_data = collection.find_one({\"name\": \"John\"})\n",
    "print(retrieved_data)"
   ]
  },
  {
   "cell_type": "code",
   "execution_count": 11,
   "metadata": {},
   "outputs": [
    {
     "name": "stdout",
     "output_type": "stream",
     "text": [
      "1\n"
     ]
    }
   ],
   "source": [
    "# updating data\n",
    "update_result = collection.update_one({'name': 'John'}, {'$set':\n",
    "{'age': 35}})\n",
    "print(update_result.modified_count)"
   ]
  },
  {
   "cell_type": "code",
   "execution_count": 13,
   "metadata": {},
   "outputs": [
    {
     "name": "stdout",
     "output_type": "stream",
     "text": [
      "1\n"
     ]
    }
   ],
   "source": [
    "# deleting data\n",
    "delete_result = collection.delete_one({\"name\": \"John\"})\n",
    "print(delete_result.deleted_count)"
   ]
  },
  {
   "cell_type": "code",
   "execution_count": 14,
   "metadata": {},
   "outputs": [
    {
     "name": "stdout",
     "output_type": "stream",
     "text": [
      "[ObjectId('67114532e9166ff53df1175f'), ObjectId('67114532e9166ff53df11760'), ObjectId('67114532e9166ff53df11761')]\n"
     ]
    }
   ],
   "source": [
    "# inserting many \n",
    "data_list = [\n",
    "    {\"name\": \"Alice\", \"age\": 28, \"city\": \"Paris\"},\n",
    "    {\"name\": \"Bob\", \"age\": 22, \"city\": \"London\"},\n",
    "    {\"name\": \"Charlie\", \"age\": 35, \"city\": \"Berlin\"}\n",
    "]\n",
    "insert_result = collection.insert_many(data_list)\n",
    "print(insert_result.inserted_ids)"
   ]
  },
  {
   "cell_type": "code",
   "execution_count": 15,
   "metadata": {},
   "outputs": [
    {
     "name": "stdout",
     "output_type": "stream",
     "text": [
      "{'_id': ObjectId('67114532e9166ff53df1175f'), 'name': 'Alice', 'age': 28, 'city': 'Paris'}\n",
      "{'_id': ObjectId('67114532e9166ff53df11761'), 'name': 'Charlie', 'age': 35, 'city': 'Berlin'}\n"
     ]
    }
   ],
   "source": [
    "# fetching multiple records:\n",
    "results = collection.find({\"age\": {\"$gt\": 25}}) # age greater than 25\n",
    "for r in results:\n",
    "    print(r)"
   ]
  },
  {
   "cell_type": "code",
   "execution_count": 16,
   "metadata": {},
   "outputs": [
    {
     "name": "stdout",
     "output_type": "stream",
     "text": [
      "{'_id': 'Paris', 'averageAge': 28.0}\n",
      "{'_id': 'Berlin', 'averageAge': 35.0}\n"
     ]
    }
   ],
   "source": [
    "# Aggregation\n",
    "pipeline = [\n",
    "    {\"$match\": {\"age\": {\"$gt\": 25}}}, # age greater than 25\n",
    "    {\"$group\": {\"_id\": \"$city\", \"averageAge\": {\"$avg\": \"$age\"}}} # group of docs by value of city then averaging values of age\n",
    "]\n",
    "agg_result = collection.aggregate(pipeline)\n",
    "for a in agg_result:\n",
    "    print(a)"
   ]
  }
 ],
 "metadata": {
  "kernelspec": {
   "display_name": "mongoDB_practice",
   "language": "python",
   "name": "python3"
  },
  "language_info": {
   "codemirror_mode": {
    "name": "ipython",
    "version": 3
   },
   "file_extension": ".py",
   "mimetype": "text/x-python",
   "name": "python",
   "nbconvert_exporter": "python",
   "pygments_lexer": "ipython3",
   "version": "3.9.20"
  }
 },
 "nbformat": 4,
 "nbformat_minor": 2
}
