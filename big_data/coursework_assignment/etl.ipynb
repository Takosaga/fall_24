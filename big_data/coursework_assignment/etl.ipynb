{
 "cells": [
  {
   "cell_type": "markdown",
   "metadata": {},
   "source": [
    "# ETL"
   ]
  },
  {
   "cell_type": "markdown",
   "metadata": {},
   "source": [
    "This notebook is to extract from sqlite and mongodb. Transforms data and load/save into a dataframe"
   ]
  },
  {
   "cell_type": "markdown",
   "metadata": {},
   "source": [
    "### a) Gather Data from sqlite.db"
   ]
  },
  {
   "cell_type": "markdown",
   "metadata": {},
   "source": [
    "Extracting data from sqlite.db and transforming to get video duration, count, like, comments and get total of engagement"
   ]
  },
  {
   "cell_type": "code",
   "execution_count": 10,
   "metadata": {},
   "outputs": [],
   "source": [
    "import os\n",
    "import sqlite3\n",
    "import pandas as pd\n",
    "\n",
    "# setting path to database\n",
    "folder_path = \"data\"\n",
    "db_file_path = os.path.join(folder_path, \"tiktok.db\")\n"
   ]
  },
  {
   "cell_type": "code",
   "execution_count": 11,
   "metadata": {},
   "outputs": [],
   "source": [
    "# connecting to db\n",
    "conn = sqlite3.connect(db_file_path)"
   ]
  },
  {
   "cell_type": "code",
   "execution_count": 14,
   "metadata": {},
   "outputs": [],
   "source": [
    "# SQL query to join VideoMetrics and Videos tables on video_id\n",
    "query = '''\n",
    "SELECT v.video_duration_sec AS tiktok_duration_sec,\n",
    "        m.video_view_count AS tiktok_view_count,\n",
    "        m.video_like_count AS tiktok_like_count,\n",
    "        m.video_comment_count AS tiktok_comment_count\n",
    "FROM Videos v\n",
    "JOIN VideoMetrics m\n",
    "ON v.video_id = m.video_id\n",
    "WHERE v.video_duration_sec IS NOT NULL AND\n",
    "        v.video_duration_sec > 0;\n",
    "'''"
   ]
  },
  {
   "cell_type": "code",
   "execution_count": 15,
   "metadata": {},
   "outputs": [],
   "source": [
    "# Load into df\n",
    "tiktok_df = pd.read_sql_query(query, conn)\n",
    "\n",
    "# close connection\n",
    "conn.close()\n"
   ]
  },
  {
   "cell_type": "code",
   "execution_count": 16,
   "metadata": {},
   "outputs": [
    {
     "data": {
      "text/html": [
       "<div>\n",
       "<style scoped>\n",
       "    .dataframe tbody tr th:only-of-type {\n",
       "        vertical-align: middle;\n",
       "    }\n",
       "\n",
       "    .dataframe tbody tr th {\n",
       "        vertical-align: top;\n",
       "    }\n",
       "\n",
       "    .dataframe thead th {\n",
       "        text-align: right;\n",
       "    }\n",
       "</style>\n",
       "<table border=\"1\" class=\"dataframe\">\n",
       "  <thead>\n",
       "    <tr style=\"text-align: right;\">\n",
       "      <th></th>\n",
       "      <th>tiktok_duration_sec</th>\n",
       "      <th>tiktok_view_count</th>\n",
       "      <th>tiktok_like_count</th>\n",
       "      <th>tiktok_comment_count</th>\n",
       "    </tr>\n",
       "  </thead>\n",
       "  <tbody>\n",
       "    <tr>\n",
       "      <th>0</th>\n",
       "      <td>59</td>\n",
       "      <td>343296.0</td>\n",
       "      <td>19425.0</td>\n",
       "      <td>0.0</td>\n",
       "    </tr>\n",
       "    <tr>\n",
       "      <th>1</th>\n",
       "      <td>32</td>\n",
       "      <td>140877.0</td>\n",
       "      <td>77355.0</td>\n",
       "      <td>684.0</td>\n",
       "    </tr>\n",
       "    <tr>\n",
       "      <th>2</th>\n",
       "      <td>31</td>\n",
       "      <td>902185.0</td>\n",
       "      <td>97690.0</td>\n",
       "      <td>329.0</td>\n",
       "    </tr>\n",
       "    <tr>\n",
       "      <th>3</th>\n",
       "      <td>25</td>\n",
       "      <td>437506.0</td>\n",
       "      <td>239954.0</td>\n",
       "      <td>584.0</td>\n",
       "    </tr>\n",
       "    <tr>\n",
       "      <th>4</th>\n",
       "      <td>19</td>\n",
       "      <td>56167.0</td>\n",
       "      <td>34987.0</td>\n",
       "      <td>152.0</td>\n",
       "    </tr>\n",
       "  </tbody>\n",
       "</table>\n",
       "</div>"
      ],
      "text/plain": [
       "   tiktok_duration_sec  tiktok_view_count  tiktok_like_count  \\\n",
       "0                   59           343296.0            19425.0   \n",
       "1                   32           140877.0            77355.0   \n",
       "2                   31           902185.0            97690.0   \n",
       "3                   25           437506.0           239954.0   \n",
       "4                   19            56167.0            34987.0   \n",
       "\n",
       "   tiktok_comment_count  \n",
       "0                   0.0  \n",
       "1                 684.0  \n",
       "2                 329.0  \n",
       "3                 584.0  \n",
       "4                 152.0  "
      ]
     },
     "execution_count": 16,
     "metadata": {},
     "output_type": "execute_result"
    }
   ],
   "source": [
    "tiktok_df.head()"
   ]
  },
  {
   "cell_type": "code",
   "execution_count": 17,
   "metadata": {},
   "outputs": [],
   "source": [
    "# calculate total engagement by adding views, likes, and comments\n",
    "tiktok_df['tiktok_total_engagement'] = (\n",
    "    tiktok_df['tiktok_view_count'] +\n",
    "    tiktok_df['tiktok_like_count'] +\n",
    "    tiktok_df['tiktok_comment_count']\n",
    ")"
   ]
  },
  {
   "cell_type": "code",
   "execution_count": 18,
   "metadata": {},
   "outputs": [
    {
     "data": {
      "text/html": [
       "<div>\n",
       "<style scoped>\n",
       "    .dataframe tbody tr th:only-of-type {\n",
       "        vertical-align: middle;\n",
       "    }\n",
       "\n",
       "    .dataframe tbody tr th {\n",
       "        vertical-align: top;\n",
       "    }\n",
       "\n",
       "    .dataframe thead th {\n",
       "        text-align: right;\n",
       "    }\n",
       "</style>\n",
       "<table border=\"1\" class=\"dataframe\">\n",
       "  <thead>\n",
       "    <tr style=\"text-align: right;\">\n",
       "      <th></th>\n",
       "      <th>tiktok_duration_sec</th>\n",
       "      <th>tiktok_view_count</th>\n",
       "      <th>tiktok_like_count</th>\n",
       "      <th>tiktok_comment_count</th>\n",
       "      <th>tiktok_total_engagement</th>\n",
       "    </tr>\n",
       "  </thead>\n",
       "  <tbody>\n",
       "    <tr>\n",
       "      <th>0</th>\n",
       "      <td>59</td>\n",
       "      <td>343296.0</td>\n",
       "      <td>19425.0</td>\n",
       "      <td>0.0</td>\n",
       "      <td>362721.0</td>\n",
       "    </tr>\n",
       "    <tr>\n",
       "      <th>1</th>\n",
       "      <td>32</td>\n",
       "      <td>140877.0</td>\n",
       "      <td>77355.0</td>\n",
       "      <td>684.0</td>\n",
       "      <td>218916.0</td>\n",
       "    </tr>\n",
       "    <tr>\n",
       "      <th>2</th>\n",
       "      <td>31</td>\n",
       "      <td>902185.0</td>\n",
       "      <td>97690.0</td>\n",
       "      <td>329.0</td>\n",
       "      <td>1000204.0</td>\n",
       "    </tr>\n",
       "    <tr>\n",
       "      <th>3</th>\n",
       "      <td>25</td>\n",
       "      <td>437506.0</td>\n",
       "      <td>239954.0</td>\n",
       "      <td>584.0</td>\n",
       "      <td>678044.0</td>\n",
       "    </tr>\n",
       "    <tr>\n",
       "      <th>4</th>\n",
       "      <td>19</td>\n",
       "      <td>56167.0</td>\n",
       "      <td>34987.0</td>\n",
       "      <td>152.0</td>\n",
       "      <td>91306.0</td>\n",
       "    </tr>\n",
       "  </tbody>\n",
       "</table>\n",
       "</div>"
      ],
      "text/plain": [
       "   tiktok_duration_sec  tiktok_view_count  tiktok_like_count  \\\n",
       "0                   59           343296.0            19425.0   \n",
       "1                   32           140877.0            77355.0   \n",
       "2                   31           902185.0            97690.0   \n",
       "3                   25           437506.0           239954.0   \n",
       "4                   19            56167.0            34987.0   \n",
       "\n",
       "   tiktok_comment_count  tiktok_total_engagement  \n",
       "0                   0.0                 362721.0  \n",
       "1                 684.0                 218916.0  \n",
       "2                 329.0                1000204.0  \n",
       "3                 584.0                 678044.0  \n",
       "4                 152.0                  91306.0  "
      ]
     },
     "execution_count": 18,
     "metadata": {},
     "output_type": "execute_result"
    }
   ],
   "source": [
    "tiktok_df.head()"
   ]
  },
  {
   "cell_type": "code",
   "execution_count": 19,
   "metadata": {},
   "outputs": [
    {
     "data": {
      "text/html": [
       "<div>\n",
       "<style scoped>\n",
       "    .dataframe tbody tr th:only-of-type {\n",
       "        vertical-align: middle;\n",
       "    }\n",
       "\n",
       "    .dataframe tbody tr th {\n",
       "        vertical-align: top;\n",
       "    }\n",
       "\n",
       "    .dataframe thead th {\n",
       "        text-align: right;\n",
       "    }\n",
       "</style>\n",
       "<table border=\"1\" class=\"dataframe\">\n",
       "  <thead>\n",
       "    <tr style=\"text-align: right;\">\n",
       "      <th></th>\n",
       "      <th>tiktok_duration_sec</th>\n",
       "      <th>tiktok_view_count</th>\n",
       "      <th>tiktok_like_count</th>\n",
       "      <th>tiktok_comment_count</th>\n",
       "      <th>tiktok_total_engagement</th>\n",
       "    </tr>\n",
       "  </thead>\n",
       "  <tbody>\n",
       "    <tr>\n",
       "      <th>count</th>\n",
       "      <td>19382.000000</td>\n",
       "      <td>19084.000000</td>\n",
       "      <td>19084.000000</td>\n",
       "      <td>19084.000000</td>\n",
       "      <td>1.908400e+04</td>\n",
       "    </tr>\n",
       "    <tr>\n",
       "      <th>mean</th>\n",
       "      <td>32.421732</td>\n",
       "      <td>254708.558688</td>\n",
       "      <td>84304.636030</td>\n",
       "      <td>349.312146</td>\n",
       "      <td>3.393625e+05</td>\n",
       "    </tr>\n",
       "    <tr>\n",
       "      <th>std</th>\n",
       "      <td>16.229967</td>\n",
       "      <td>322893.280814</td>\n",
       "      <td>133420.546814</td>\n",
       "      <td>799.638865</td>\n",
       "      <td>4.379451e+05</td>\n",
       "    </tr>\n",
       "    <tr>\n",
       "      <th>min</th>\n",
       "      <td>5.000000</td>\n",
       "      <td>20.000000</td>\n",
       "      <td>0.000000</td>\n",
       "      <td>0.000000</td>\n",
       "      <td>2.300000e+01</td>\n",
       "    </tr>\n",
       "    <tr>\n",
       "      <th>25%</th>\n",
       "      <td>18.000000</td>\n",
       "      <td>4942.500000</td>\n",
       "      <td>810.750000</td>\n",
       "      <td>1.000000</td>\n",
       "      <td>6.013750e+03</td>\n",
       "    </tr>\n",
       "    <tr>\n",
       "      <th>50%</th>\n",
       "      <td>32.000000</td>\n",
       "      <td>9954.500000</td>\n",
       "      <td>3403.500000</td>\n",
       "      <td>9.000000</td>\n",
       "      <td>1.376100e+04</td>\n",
       "    </tr>\n",
       "    <tr>\n",
       "      <th>75%</th>\n",
       "      <td>47.000000</td>\n",
       "      <td>504327.000000</td>\n",
       "      <td>125020.000000</td>\n",
       "      <td>292.000000</td>\n",
       "      <td>6.608205e+05</td>\n",
       "    </tr>\n",
       "    <tr>\n",
       "      <th>max</th>\n",
       "      <td>60.000000</td>\n",
       "      <td>999817.000000</td>\n",
       "      <td>657830.000000</td>\n",
       "      <td>9599.000000</td>\n",
       "      <td>1.656099e+06</td>\n",
       "    </tr>\n",
       "  </tbody>\n",
       "</table>\n",
       "</div>"
      ],
      "text/plain": [
       "       tiktok_duration_sec  tiktok_view_count  tiktok_like_count  \\\n",
       "count         19382.000000       19084.000000       19084.000000   \n",
       "mean             32.421732      254708.558688       84304.636030   \n",
       "std              16.229967      322893.280814      133420.546814   \n",
       "min               5.000000          20.000000           0.000000   \n",
       "25%              18.000000        4942.500000         810.750000   \n",
       "50%              32.000000        9954.500000        3403.500000   \n",
       "75%              47.000000      504327.000000      125020.000000   \n",
       "max              60.000000      999817.000000      657830.000000   \n",
       "\n",
       "       tiktok_comment_count  tiktok_total_engagement  \n",
       "count          19084.000000             1.908400e+04  \n",
       "mean             349.312146             3.393625e+05  \n",
       "std              799.638865             4.379451e+05  \n",
       "min                0.000000             2.300000e+01  \n",
       "25%                1.000000             6.013750e+03  \n",
       "50%                9.000000             1.376100e+04  \n",
       "75%              292.000000             6.608205e+05  \n",
       "max             9599.000000             1.656099e+06  "
      ]
     },
     "execution_count": 19,
     "metadata": {},
     "output_type": "execute_result"
    }
   ],
   "source": [
    "tiktok_df.describe()"
   ]
  },
  {
   "cell_type": "code",
   "execution_count": 21,
   "metadata": {},
   "outputs": [],
   "source": [
    "# saving data to pickle\n",
    "tiktok_df.to_pickle(\"tiktok.pkl\")"
   ]
  },
  {
   "cell_type": "markdown",
   "metadata": {},
   "source": [
    "### b) Gather Data from mongoDB"
   ]
  },
  {
   "cell_type": "markdown",
   "metadata": {},
   "source": []
  }
 ],
 "metadata": {
  "kernelspec": {
   "display_name": "mongoDB_practice",
   "language": "python",
   "name": "python3"
  },
  "language_info": {
   "codemirror_mode": {
    "name": "ipython",
    "version": 3
   },
   "file_extension": ".py",
   "mimetype": "text/x-python",
   "name": "python",
   "nbconvert_exporter": "python",
   "pygments_lexer": "ipython3",
   "version": "3.9.20"
  }
 },
 "nbformat": 4,
 "nbformat_minor": 2
}
