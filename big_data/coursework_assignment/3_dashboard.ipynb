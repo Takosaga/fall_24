{
 "cells": [
  {
   "cell_type": "markdown",
   "metadata": {},
   "source": [
    "# 3. Dashboard"
   ]
  },
  {
   "cell_type": "markdown",
   "metadata": {},
   "source": [
    "### Understanding"
   ]
  },
  {
   "cell_type": "markdown",
   "metadata": {},
   "source": [
    "Will be using the pickle files for dataframes\n",
    "\n",
    "Using streamlit for dashboard"
   ]
  },
  {
   "cell_type": "code",
   "execution_count": 1,
   "metadata": {},
   "outputs": [],
   "source": [
    "import streamlit as st\n",
    "import pandas as pd\n",
    "import matplotlib.pyplot as plt\n",
    "import seaborn as sns\n",
    "import numpy as np\n",
    "from sklearn.preprocessing import StandardScaler\n",
    "\n",
    "\n",
    "\n",
    "%matplotlib inline\n"
   ]
  },
  {
   "cell_type": "code",
   "execution_count": 2,
   "metadata": {},
   "outputs": [],
   "source": [
    "# loading pickles\n",
    "\n",
    "tiktok_df = pd.read_pickle('tiktok.pkl')\n",
    "youtube_df = pd.read_pickle('youtube.pkl')"
   ]
  },
  {
   "cell_type": "code",
   "execution_count": 3,
   "metadata": {},
   "outputs": [
    {
     "name": "stderr",
     "output_type": "stream",
     "text": [
      "2024-12-05 12:26:44.337 Thread 'MainThread': missing ScriptRunContext! This warning can be ignored when running in bare mode.\n"
     ]
    },
    {
     "name": "stderr",
     "output_type": "stream",
     "text": [
      "2024-12-05 12:26:44.499 \n",
      "  \u001b[33m\u001b[1mWarning:\u001b[0m to view this Streamlit app on a browser, run it with the following\n",
      "  command:\n",
      "\n",
      "    streamlit run /home/takosaga/miniconda3/envs/mongoDB_practice/lib/python3.9/site-packages/ipykernel_launcher.py [ARGUMENTS]\n",
      "2024-12-05 12:26:44.500 Thread 'MainThread': missing ScriptRunContext! This warning can be ignored when running in bare mode.\n"
     ]
    },
    {
     "data": {
      "text/plain": [
       "DeltaGenerator()"
      ]
     },
     "execution_count": 3,
     "metadata": {},
     "output_type": "execute_result"
    }
   ],
   "source": [
    "st.dataframe(tiktok_df)"
   ]
  },
  {
   "cell_type": "markdown",
   "metadata": {},
   "source": [
    "streamlit does not run from notebook, so have to write a py file"
   ]
  },
  {
   "cell_type": "code",
   "execution_count": 4,
   "metadata": {},
   "outputs": [
    {
     "name": "stdout",
     "output_type": "stream",
     "text": [
      "Writing test.py\n"
     ]
    }
   ],
   "source": [
    "%%writefile test.py\n",
    "\n",
    "import streamlit as st\n",
    "import pandas as pd\n",
    "\n",
    "# Assuming your pickle files are in the same directory as the script\n",
    "tiktok_df = pd.read_pickle('tiktok.pkl')\n",
    "youtube_df = pd.read_pickle('youtube.pkl')\n",
    "\n",
    "# Display the DataFrames\n",
    "st.header(\"DataFrames from Pickle Files\")\n",
    "st.dataframe(tiktok_df.head())\n",
    "st.dataframe(youtube_df.head())"
   ]
  },
  {
   "cell_type": "code",
   "execution_count": 5,
   "metadata": {},
   "outputs": [],
   "source": [
    "# running test.py\n",
    "# !streamlit run test.py"
   ]
  },
  {
   "cell_type": "code",
   "execution_count": 5,
   "metadata": {},
   "outputs": [
    {
     "data": {
      "text/html": [
       "<div>\n",
       "<style scoped>\n",
       "    .dataframe tbody tr th:only-of-type {\n",
       "        vertical-align: middle;\n",
       "    }\n",
       "\n",
       "    .dataframe tbody tr th {\n",
       "        vertical-align: top;\n",
       "    }\n",
       "\n",
       "    .dataframe thead th {\n",
       "        text-align: right;\n",
       "    }\n",
       "</style>\n",
       "<table border=\"1\" class=\"dataframe\">\n",
       "  <thead>\n",
       "    <tr style=\"text-align: right;\">\n",
       "      <th></th>\n",
       "      <th>tiktok_view_count</th>\n",
       "      <th>tiktok_like_count</th>\n",
       "      <th>tiktok_comment_count</th>\n",
       "      <th>tiktok_likes_and_comments</th>\n",
       "    </tr>\n",
       "  </thead>\n",
       "  <tbody>\n",
       "    <tr>\n",
       "      <th>0</th>\n",
       "      <td>343296.0</td>\n",
       "      <td>19425.0</td>\n",
       "      <td>0.0</td>\n",
       "      <td>19425.0</td>\n",
       "    </tr>\n",
       "    <tr>\n",
       "      <th>1</th>\n",
       "      <td>140877.0</td>\n",
       "      <td>77355.0</td>\n",
       "      <td>684.0</td>\n",
       "      <td>78039.0</td>\n",
       "    </tr>\n",
       "    <tr>\n",
       "      <th>2</th>\n",
       "      <td>902185.0</td>\n",
       "      <td>97690.0</td>\n",
       "      <td>329.0</td>\n",
       "      <td>98019.0</td>\n",
       "    </tr>\n",
       "    <tr>\n",
       "      <th>3</th>\n",
       "      <td>437506.0</td>\n",
       "      <td>239954.0</td>\n",
       "      <td>584.0</td>\n",
       "      <td>240538.0</td>\n",
       "    </tr>\n",
       "    <tr>\n",
       "      <th>4</th>\n",
       "      <td>56167.0</td>\n",
       "      <td>34987.0</td>\n",
       "      <td>152.0</td>\n",
       "      <td>35139.0</td>\n",
       "    </tr>\n",
       "  </tbody>\n",
       "</table>\n",
       "</div>"
      ],
      "text/plain": [
       "   tiktok_view_count  tiktok_like_count  tiktok_comment_count  \\\n",
       "0           343296.0            19425.0                   0.0   \n",
       "1           140877.0            77355.0                 684.0   \n",
       "2           902185.0            97690.0                 329.0   \n",
       "3           437506.0           239954.0                 584.0   \n",
       "4            56167.0            34987.0                 152.0   \n",
       "\n",
       "   tiktok_likes_and_comments  \n",
       "0                    19425.0  \n",
       "1                    78039.0  \n",
       "2                    98019.0  \n",
       "3                   240538.0  \n",
       "4                    35139.0  "
      ]
     },
     "execution_count": 5,
     "metadata": {},
     "output_type": "execute_result"
    }
   ],
   "source": [
    "tiktok_df.head()"
   ]
  },
  {
   "cell_type": "code",
   "execution_count": 6,
   "metadata": {},
   "outputs": [
    {
     "data": {
      "text/html": [
       "<div>\n",
       "<style scoped>\n",
       "    .dataframe tbody tr th:only-of-type {\n",
       "        vertical-align: middle;\n",
       "    }\n",
       "\n",
       "    .dataframe tbody tr th {\n",
       "        vertical-align: top;\n",
       "    }\n",
       "\n",
       "    .dataframe thead th {\n",
       "        text-align: right;\n",
       "    }\n",
       "</style>\n",
       "<table border=\"1\" class=\"dataframe\">\n",
       "  <thead>\n",
       "    <tr style=\"text-align: right;\">\n",
       "      <th></th>\n",
       "      <th>tiktok_view_count</th>\n",
       "      <th>tiktok_like_count</th>\n",
       "      <th>tiktok_comment_count</th>\n",
       "      <th>tiktok_likes_and_comments</th>\n",
       "    </tr>\n",
       "  </thead>\n",
       "  <tbody>\n",
       "    <tr>\n",
       "      <th>count</th>\n",
       "      <td>76336.000000</td>\n",
       "      <td>76336.000000</td>\n",
       "      <td>76336.000000</td>\n",
       "      <td>76336.000000</td>\n",
       "    </tr>\n",
       "    <tr>\n",
       "      <th>mean</th>\n",
       "      <td>254708.558688</td>\n",
       "      <td>84304.636030</td>\n",
       "      <td>349.312146</td>\n",
       "      <td>84653.948176</td>\n",
       "    </tr>\n",
       "    <tr>\n",
       "      <th>std</th>\n",
       "      <td>322886.935826</td>\n",
       "      <td>133417.925044</td>\n",
       "      <td>799.623152</td>\n",
       "      <td>133968.673871</td>\n",
       "    </tr>\n",
       "    <tr>\n",
       "      <th>min</th>\n",
       "      <td>20.000000</td>\n",
       "      <td>0.000000</td>\n",
       "      <td>0.000000</td>\n",
       "      <td>0.000000</td>\n",
       "    </tr>\n",
       "    <tr>\n",
       "      <th>25%</th>\n",
       "      <td>4942.500000</td>\n",
       "      <td>810.750000</td>\n",
       "      <td>1.000000</td>\n",
       "      <td>813.000000</td>\n",
       "    </tr>\n",
       "    <tr>\n",
       "      <th>50%</th>\n",
       "      <td>9954.500000</td>\n",
       "      <td>3403.500000</td>\n",
       "      <td>9.000000</td>\n",
       "      <td>3412.500000</td>\n",
       "    </tr>\n",
       "    <tr>\n",
       "      <th>75%</th>\n",
       "      <td>504327.000000</td>\n",
       "      <td>125020.000000</td>\n",
       "      <td>292.000000</td>\n",
       "      <td>125487.000000</td>\n",
       "    </tr>\n",
       "    <tr>\n",
       "      <th>max</th>\n",
       "      <td>999817.000000</td>\n",
       "      <td>657830.000000</td>\n",
       "      <td>9599.000000</td>\n",
       "      <td>659520.000000</td>\n",
       "    </tr>\n",
       "  </tbody>\n",
       "</table>\n",
       "</div>"
      ],
      "text/plain": [
       "       tiktok_view_count  tiktok_like_count  tiktok_comment_count  \\\n",
       "count       76336.000000       76336.000000          76336.000000   \n",
       "mean       254708.558688       84304.636030            349.312146   \n",
       "std        322886.935826      133417.925044            799.623152   \n",
       "min            20.000000           0.000000              0.000000   \n",
       "25%          4942.500000         810.750000              1.000000   \n",
       "50%          9954.500000        3403.500000              9.000000   \n",
       "75%        504327.000000      125020.000000            292.000000   \n",
       "max        999817.000000      657830.000000           9599.000000   \n",
       "\n",
       "       tiktok_likes_and_comments  \n",
       "count               76336.000000  \n",
       "mean                84653.948176  \n",
       "std                133968.673871  \n",
       "min                     0.000000  \n",
       "25%                   813.000000  \n",
       "50%                  3412.500000  \n",
       "75%                125487.000000  \n",
       "max                659520.000000  "
      ]
     },
     "execution_count": 6,
     "metadata": {},
     "output_type": "execute_result"
    }
   ],
   "source": [
    "tiktok_df.describe()"
   ]
  },
  {
   "cell_type": "code",
   "execution_count": 7,
   "metadata": {},
   "outputs": [
    {
     "data": {
      "text/html": [
       "<div>\n",
       "<style scoped>\n",
       "    .dataframe tbody tr th:only-of-type {\n",
       "        vertical-align: middle;\n",
       "    }\n",
       "\n",
       "    .dataframe tbody tr th {\n",
       "        vertical-align: top;\n",
       "    }\n",
       "\n",
       "    .dataframe thead th {\n",
       "        text-align: right;\n",
       "    }\n",
       "</style>\n",
       "<table border=\"1\" class=\"dataframe\">\n",
       "  <thead>\n",
       "    <tr style=\"text-align: right;\">\n",
       "      <th></th>\n",
       "      <th>youtube_view_count</th>\n",
       "      <th>youtube_like_count</th>\n",
       "      <th>youtube_comment_count</th>\n",
       "      <th>youtube_likes_and_comments</th>\n",
       "    </tr>\n",
       "  </thead>\n",
       "  <tbody>\n",
       "    <tr>\n",
       "      <th>0</th>\n",
       "      <td>77057</td>\n",
       "      <td>909</td>\n",
       "      <td>557</td>\n",
       "      <td>1466</td>\n",
       "    </tr>\n",
       "    <tr>\n",
       "      <th>1</th>\n",
       "      <td>188949</td>\n",
       "      <td>3734</td>\n",
       "      <td>1930</td>\n",
       "      <td>5664</td>\n",
       "    </tr>\n",
       "    <tr>\n",
       "      <th>2</th>\n",
       "      <td>1922598</td>\n",
       "      <td>20215</td>\n",
       "      <td>3737</td>\n",
       "      <td>23952</td>\n",
       "    </tr>\n",
       "    <tr>\n",
       "      <th>3</th>\n",
       "      <td>6013</td>\n",
       "      <td>94</td>\n",
       "      <td>77</td>\n",
       "      <td>171</td>\n",
       "    </tr>\n",
       "    <tr>\n",
       "      <th>4</th>\n",
       "      <td>190901</td>\n",
       "      <td>2969</td>\n",
       "      <td>762</td>\n",
       "      <td>3731</td>\n",
       "    </tr>\n",
       "  </tbody>\n",
       "</table>\n",
       "</div>"
      ],
      "text/plain": [
       "   youtube_view_count  youtube_like_count  youtube_comment_count  \\\n",
       "0               77057                 909                    557   \n",
       "1              188949                3734                   1930   \n",
       "2             1922598               20215                   3737   \n",
       "3                6013                  94                     77   \n",
       "4              190901                2969                    762   \n",
       "\n",
       "   youtube_likes_and_comments  \n",
       "0                        1466  \n",
       "1                        5664  \n",
       "2                       23952  \n",
       "3                         171  \n",
       "4                        3731  "
      ]
     },
     "execution_count": 7,
     "metadata": {},
     "output_type": "execute_result"
    }
   ],
   "source": [
    "youtube_df.head()"
   ]
  },
  {
   "cell_type": "code",
   "execution_count": 8,
   "metadata": {},
   "outputs": [
    {
     "data": {
      "text/html": [
       "<div>\n",
       "<style scoped>\n",
       "    .dataframe tbody tr th:only-of-type {\n",
       "        vertical-align: middle;\n",
       "    }\n",
       "\n",
       "    .dataframe tbody tr th {\n",
       "        vertical-align: top;\n",
       "    }\n",
       "\n",
       "    .dataframe thead th {\n",
       "        text-align: right;\n",
       "    }\n",
       "</style>\n",
       "<table border=\"1\" class=\"dataframe\">\n",
       "  <thead>\n",
       "    <tr style=\"text-align: right;\">\n",
       "      <th></th>\n",
       "      <th>youtube_view_count</th>\n",
       "      <th>youtube_like_count</th>\n",
       "      <th>youtube_comment_count</th>\n",
       "      <th>youtube_likes_and_comments</th>\n",
       "    </tr>\n",
       "  </thead>\n",
       "  <tbody>\n",
       "    <tr>\n",
       "      <th>count</th>\n",
       "      <td>4.450000e+03</td>\n",
       "      <td>4.450000e+03</td>\n",
       "      <td>4450.000000</td>\n",
       "      <td>4.450000e+03</td>\n",
       "    </tr>\n",
       "    <tr>\n",
       "      <th>mean</th>\n",
       "      <td>1.667199e+07</td>\n",
       "      <td>1.803403e+05</td>\n",
       "      <td>4210.897978</td>\n",
       "      <td>1.845512e+05</td>\n",
       "    </tr>\n",
       "    <tr>\n",
       "      <th>std</th>\n",
       "      <td>1.410693e+08</td>\n",
       "      <td>8.619444e+05</td>\n",
       "      <td>22026.580878</td>\n",
       "      <td>8.784926e+05</td>\n",
       "    </tr>\n",
       "    <tr>\n",
       "      <th>min</th>\n",
       "      <td>1.000000e+00</td>\n",
       "      <td>0.000000e+00</td>\n",
       "      <td>0.000000</td>\n",
       "      <td>0.000000e+00</td>\n",
       "    </tr>\n",
       "    <tr>\n",
       "      <th>25%</th>\n",
       "      <td>6.616775e+04</td>\n",
       "      <td>1.051500e+03</td>\n",
       "      <td>86.000000</td>\n",
       "      <td>1.283000e+03</td>\n",
       "    </tr>\n",
       "    <tr>\n",
       "      <th>50%</th>\n",
       "      <td>4.119610e+05</td>\n",
       "      <td>6.913000e+03</td>\n",
       "      <td>505.000000</td>\n",
       "      <td>7.984000e+03</td>\n",
       "    </tr>\n",
       "    <tr>\n",
       "      <th>75%</th>\n",
       "      <td>2.709688e+06</td>\n",
       "      <td>4.872200e+04</td>\n",
       "      <td>2269.000000</td>\n",
       "      <td>5.217000e+04</td>\n",
       "    </tr>\n",
       "    <tr>\n",
       "      <th>max</th>\n",
       "      <td>6.104343e+09</td>\n",
       "      <td>1.562634e+07</td>\n",
       "      <td>532252.000000</td>\n",
       "      <td>1.615859e+07</td>\n",
       "    </tr>\n",
       "  </tbody>\n",
       "</table>\n",
       "</div>"
      ],
      "text/plain": [
       "       youtube_view_count  youtube_like_count  youtube_comment_count  \\\n",
       "count        4.450000e+03        4.450000e+03            4450.000000   \n",
       "mean         1.667199e+07        1.803403e+05            4210.897978   \n",
       "std          1.410693e+08        8.619444e+05           22026.580878   \n",
       "min          1.000000e+00        0.000000e+00               0.000000   \n",
       "25%          6.616775e+04        1.051500e+03              86.000000   \n",
       "50%          4.119610e+05        6.913000e+03             505.000000   \n",
       "75%          2.709688e+06        4.872200e+04            2269.000000   \n",
       "max          6.104343e+09        1.562634e+07          532252.000000   \n",
       "\n",
       "       youtube_likes_and_comments  \n",
       "count                4.450000e+03  \n",
       "mean                 1.845512e+05  \n",
       "std                  8.784926e+05  \n",
       "min                  0.000000e+00  \n",
       "25%                  1.283000e+03  \n",
       "50%                  7.984000e+03  \n",
       "75%                  5.217000e+04  \n",
       "max                  1.615859e+07  "
      ]
     },
     "execution_count": 8,
     "metadata": {},
     "output_type": "execute_result"
    }
   ],
   "source": [
    "youtube_df.describe()"
   ]
  }
 ],
 "metadata": {
  "kernelspec": {
   "display_name": "mongoDB_practice",
   "language": "python",
   "name": "python3"
  },
  "language_info": {
   "codemirror_mode": {
    "name": "ipython",
    "version": 3
   },
   "file_extension": ".py",
   "mimetype": "text/x-python",
   "name": "python",
   "nbconvert_exporter": "python",
   "pygments_lexer": "ipython3",
   "version": "3.9.20"
  }
 },
 "nbformat": 4,
 "nbformat_minor": 2
}
