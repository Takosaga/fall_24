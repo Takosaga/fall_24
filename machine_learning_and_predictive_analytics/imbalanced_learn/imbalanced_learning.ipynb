{
 "cells": [
  {
   "cell_type": "markdown",
   "metadata": {},
   "source": [
    "# Imbalanced Learning\n",
    "Learning from [Website](https://imbalanced-learn.org/stable/index.html)\n",
    "\n",
    "The learning phase and the subsequent prediction of machine learning algorithms can be affected by the problem of imbalanced data set. \n",
    "\n",
    "The balancing issue corresponds to the difference of the number of samples in the different classes. "
   ]
  },
  {
   "cell_type": "code",
   "execution_count": null,
   "metadata": {},
   "outputs": [],
   "source": []
  }
 ],
 "metadata": {
  "kernelspec": {
   "display_name": "decision_trees_practice",
   "language": "python",
   "name": "python3"
  },
  "language_info": {
   "name": "python",
   "version": "3.9.20"
  }
 },
 "nbformat": 4,
 "nbformat_minor": 2
}
