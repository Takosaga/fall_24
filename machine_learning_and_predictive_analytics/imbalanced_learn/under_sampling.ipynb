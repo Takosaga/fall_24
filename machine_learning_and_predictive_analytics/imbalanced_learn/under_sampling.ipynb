{
 "cells": [
  {
   "cell_type": "markdown",
   "metadata": {},
   "source": [
    "# 3. Under-sampling"
   ]
  },
  {
   "cell_type": "markdown",
   "metadata": {},
   "source": [
    "[under-sampling page](https://imbalanced-learn.org/stable/under_sampling.html)\n",
    "\n",
    "One way of handling imbalanced datasets is to reduce the number of observations from all classes but the minority class. \n",
    "The minority class is that with the least number of observations. \n",
    "The most well known algorithm in this group is random undersampling, where samples from the targeted classes are removed at random."
   ]
  },
  {
   "cell_type": "markdown",
   "metadata": {},
   "source": [
    "These algorithms can be grouped based on their undersampling strategy into:\n",
    "\n",
    "* Prototype generation methods.\n",
    "\n",
    "* Prototype selection methods.\n",
    "\n",
    "And within the latter, we find:\n",
    "\n",
    "* Controlled undersampling\n",
    "\n",
    "* Cleaning methods"
   ]
  },
  {
   "cell_type": "markdown",
   "metadata": {},
   "source": [
    "### 3.1. Prototype generation"
   ]
  },
  {
   "cell_type": "markdown",
   "metadata": {},
   "source": [
    "Given an original data set S, prototype generation algorithms will generate a new set S'\n",
    " where |S'| < |S| and S' not a subset of S.  \n",
    "In other words, prototype generation techniques will reduce the number of samples in the targeted classes but the remaining samples are generated — and not selected — from the original set.\n",
    "\n",
    "`ClusterCentroids` makes use of K-means to reduce the number of samples. Therefore, each class will be synthesized with the centroids of the K-means method instead of the original samples:"
   ]
  },
  {
   "cell_type": "code",
   "execution_count": 2,
   "metadata": {},
   "outputs": [
    {
     "name": "stdout",
     "output_type": "stream",
     "text": [
      "[(np.int64(0), 64), (np.int64(1), 262), (np.int64(2), 4674)]\n",
      "[(np.int64(0), 64), (np.int64(1), 64), (np.int64(2), 64)]\n"
     ]
    }
   ],
   "source": [
    "from collections import Counter\n",
    "from sklearn.datasets import make_classification\n",
    "X, y = make_classification(n_samples=5000, n_features=2, n_informative=2,\n",
    "                           n_redundant=0, n_repeated=0, n_classes=3,\n",
    "                           n_clusters_per_class=1,\n",
    "                           weights=[0.01, 0.05, 0.94],\n",
    "                           class_sep=0.8, random_state=0)\n",
    "print(sorted(Counter(y).items()))\n",
    "from imblearn.under_sampling import ClusterCentroids\n",
    "cc = ClusterCentroids(random_state=0)\n",
    "X_resampled, y_resampled = cc.fit_resample(X, y)\n",
    "print(sorted(Counter(y_resampled).items()))"
   ]
  },
  {
   "cell_type": "markdown",
   "metadata": {},
   "source": [
    "![](https://imbalanced-learn.org/stable/_images/sphx_glr_plot_comparison_under_sampling_001.png)"
   ]
  },
  {
   "cell_type": "markdown",
   "metadata": {},
   "source": [
    "`ClusterCentroids` offers an efficient way to represent the data cluster with a reduced number of samples. \n",
    "Keep in mind that this method requires that your data are grouped into clusters. \n",
    "In addition, the number of centroids should be set such that the under-sampled clusters are representative of the original one."
   ]
  },
  {
   "cell_type": "markdown",
   "metadata": {},
   "source": [
    "### 3.2 Prototype selection"
   ]
  },
  {
   "cell_type": "markdown",
   "metadata": {},
   "source": [
    "Given an original data set S, prototype selection algorithms will generate a new set S'\n",
    " where |S'| < |S| and S' a subset of S.  \n",
    "\n",
    "Prototype selection algorithms can be divided into two groups: (i) controlled under-sampling techniques and (ii) cleaning under-sampling techniques.\n",
    "\n",
    "Controlled under-sampling methods reduce the number of observations in the majority class or classes to an arbitrary number of samples specified by the user. Typically, they reduce the number of observations to the number of samples observed in the minority class.\n",
    "\n",
    "In contrast, cleaning under-sampling techniques “clean” the feature space by removing either “noisy” or “too easy to classify” observations, depending on the method. The final number of observations in each class varies with the cleaning method and can’t be specified by the user. \n"
   ]
  },
  {
   "cell_type": "markdown",
   "metadata": {},
   "source": [
    "### 3.2.1.1 Random under-sampling\n",
    "\n",
    "`RandomUnderSampler` is a fast and easy way to balance the data by randomly selecting a subset of data for the targeted classes:"
   ]
  },
  {
   "cell_type": "code",
   "execution_count": 3,
   "metadata": {},
   "outputs": [
    {
     "name": "stdout",
     "output_type": "stream",
     "text": [
      "[(np.int64(0), 64), (np.int64(1), 64), (np.int64(2), 64)]\n"
     ]
    }
   ],
   "source": [
    "from imblearn.under_sampling import RandomUnderSampler\n",
    "rus = RandomUnderSampler(random_state=0)\n",
    "X_resampled, y_resampled = rus.fit_resample(X, y)\n",
    "print(sorted(Counter(y_resampled).items()))"
   ]
  },
  {
   "cell_type": "markdown",
   "metadata": {},
   "source": [
    "![](https://imbalanced-learn.org/stable/_images/sphx_glr_plot_comparison_under_sampling_002.png)"
   ]
  },
  {
   "cell_type": "markdown",
   "metadata": {},
   "source": [
    "`RandomUnderSampler` allows bootstrapping the data by setting replacement to True. When there are multiple classes, each targeted class is under-sampled independently:"
   ]
  },
  {
   "cell_type": "code",
   "execution_count": 7,
   "metadata": {},
   "outputs": [
    {
     "name": "stdout",
     "output_type": "stream",
     "text": [
      "(192, 2)\n",
      "(181, 2)\n"
     ]
    }
   ],
   "source": [
    "import numpy as np\n",
    "print(np.vstack([tuple(row) for row in X_resampled]).shape)\n",
    "rus = RandomUnderSampler(random_state=0, replacement=True)\n",
    "X_resampled, y_resampled = rus.fit_resample(X, y)\n",
    "print(np.vstack(np.unique([tuple(row) for row in X_resampled], axis=0)).shape)"
   ]
  },
  {
   "cell_type": "markdown",
   "metadata": {},
   "source": [
    "`RandomUnderSampler` handles heterogeneous data types, i.e. numerical, categorical, dates, etc.:"
   ]
  },
  {
   "cell_type": "code",
   "execution_count": 8,
   "metadata": {},
   "outputs": [
    {
     "name": "stdout",
     "output_type": "stream",
     "text": [
      "[['xxx' 1 1.0]\n",
      " ['zzz' 3 3.0]]\n",
      "[0 1]\n"
     ]
    }
   ],
   "source": [
    "X_hetero = np.array([['xxx', 1, 1.0], ['yyy', 2, 2.0], ['zzz', 3, 3.0]],\n",
    "                    dtype=object)\n",
    "y_hetero = np.array([0, 0, 1])\n",
    "X_resampled, y_resampled = rus.fit_resample(X_hetero, y_hetero)\n",
    "print(X_resampled)\n",
    "print(y_resampled)"
   ]
  },
  {
   "cell_type": "markdown",
   "metadata": {},
   "source": [
    "`RandomUnderSampler` also supports pandas dataframes as input for undersampling:\n",
    "\n"
   ]
  },
  {
   "cell_type": "code",
   "execution_count": 11,
   "metadata": {},
   "outputs": [
    {
     "data": {
      "text/html": [
       "<div>\n",
       "<style scoped>\n",
       "    .dataframe tbody tr th:only-of-type {\n",
       "        vertical-align: middle;\n",
       "    }\n",
       "\n",
       "    .dataframe tbody tr th {\n",
       "        vertical-align: top;\n",
       "    }\n",
       "\n",
       "    .dataframe thead th {\n",
       "        text-align: right;\n",
       "    }\n",
       "</style>\n",
       "<table border=\"1\" class=\"dataframe\">\n",
       "  <thead>\n",
       "    <tr style=\"text-align: right;\">\n",
       "      <th></th>\n",
       "      <th>age</th>\n",
       "      <th>workclass</th>\n",
       "      <th>fnlwgt</th>\n",
       "      <th>education</th>\n",
       "      <th>education-num</th>\n",
       "      <th>marital-status</th>\n",
       "      <th>occupation</th>\n",
       "      <th>relationship</th>\n",
       "      <th>race</th>\n",
       "      <th>sex</th>\n",
       "      <th>capital-gain</th>\n",
       "      <th>capital-loss</th>\n",
       "      <th>hours-per-week</th>\n",
       "      <th>native-country</th>\n",
       "    </tr>\n",
       "  </thead>\n",
       "  <tbody>\n",
       "    <tr>\n",
       "      <th>0</th>\n",
       "      <td>25</td>\n",
       "      <td>Private</td>\n",
       "      <td>226802</td>\n",
       "      <td>11th</td>\n",
       "      <td>7</td>\n",
       "      <td>Never-married</td>\n",
       "      <td>Machine-op-inspct</td>\n",
       "      <td>Own-child</td>\n",
       "      <td>Black</td>\n",
       "      <td>Male</td>\n",
       "      <td>0</td>\n",
       "      <td>0</td>\n",
       "      <td>40</td>\n",
       "      <td>United-States</td>\n",
       "    </tr>\n",
       "    <tr>\n",
       "      <th>1</th>\n",
       "      <td>38</td>\n",
       "      <td>Private</td>\n",
       "      <td>89814</td>\n",
       "      <td>HS-grad</td>\n",
       "      <td>9</td>\n",
       "      <td>Married-civ-spouse</td>\n",
       "      <td>Farming-fishing</td>\n",
       "      <td>Husband</td>\n",
       "      <td>White</td>\n",
       "      <td>Male</td>\n",
       "      <td>0</td>\n",
       "      <td>0</td>\n",
       "      <td>50</td>\n",
       "      <td>United-States</td>\n",
       "    </tr>\n",
       "    <tr>\n",
       "      <th>2</th>\n",
       "      <td>28</td>\n",
       "      <td>Local-gov</td>\n",
       "      <td>336951</td>\n",
       "      <td>Assoc-acdm</td>\n",
       "      <td>12</td>\n",
       "      <td>Married-civ-spouse</td>\n",
       "      <td>Protective-serv</td>\n",
       "      <td>Husband</td>\n",
       "      <td>White</td>\n",
       "      <td>Male</td>\n",
       "      <td>0</td>\n",
       "      <td>0</td>\n",
       "      <td>40</td>\n",
       "      <td>United-States</td>\n",
       "    </tr>\n",
       "    <tr>\n",
       "      <th>3</th>\n",
       "      <td>44</td>\n",
       "      <td>Private</td>\n",
       "      <td>160323</td>\n",
       "      <td>Some-college</td>\n",
       "      <td>10</td>\n",
       "      <td>Married-civ-spouse</td>\n",
       "      <td>Machine-op-inspct</td>\n",
       "      <td>Husband</td>\n",
       "      <td>Black</td>\n",
       "      <td>Male</td>\n",
       "      <td>7688</td>\n",
       "      <td>0</td>\n",
       "      <td>40</td>\n",
       "      <td>United-States</td>\n",
       "    </tr>\n",
       "    <tr>\n",
       "      <th>4</th>\n",
       "      <td>18</td>\n",
       "      <td>NaN</td>\n",
       "      <td>103497</td>\n",
       "      <td>Some-college</td>\n",
       "      <td>10</td>\n",
       "      <td>Never-married</td>\n",
       "      <td>NaN</td>\n",
       "      <td>Own-child</td>\n",
       "      <td>White</td>\n",
       "      <td>Female</td>\n",
       "      <td>0</td>\n",
       "      <td>0</td>\n",
       "      <td>30</td>\n",
       "      <td>United-States</td>\n",
       "    </tr>\n",
       "  </tbody>\n",
       "</table>\n",
       "</div>"
      ],
      "text/plain": [
       "   age  workclass  fnlwgt     education  education-num      marital-status  \\\n",
       "0   25    Private  226802          11th              7       Never-married   \n",
       "1   38    Private   89814       HS-grad              9  Married-civ-spouse   \n",
       "2   28  Local-gov  336951    Assoc-acdm             12  Married-civ-spouse   \n",
       "3   44    Private  160323  Some-college             10  Married-civ-spouse   \n",
       "4   18        NaN  103497  Some-college             10       Never-married   \n",
       "\n",
       "          occupation relationship   race     sex  capital-gain  capital-loss  \\\n",
       "0  Machine-op-inspct    Own-child  Black    Male             0             0   \n",
       "1    Farming-fishing      Husband  White    Male             0             0   \n",
       "2    Protective-serv      Husband  White    Male             0             0   \n",
       "3  Machine-op-inspct      Husband  Black    Male          7688             0   \n",
       "4                NaN    Own-child  White  Female             0             0   \n",
       "\n",
       "   hours-per-week native-country  \n",
       "0              40  United-States  \n",
       "1              50  United-States  \n",
       "2              40  United-States  \n",
       "3              40  United-States  \n",
       "4              30  United-States  "
      ]
     },
     "execution_count": 11,
     "metadata": {},
     "output_type": "execute_result"
    }
   ],
   "source": [
    "from sklearn.datasets import fetch_openml\n",
    "df_adult, y_adult = fetch_openml(\n",
    "    'adult', version=2, as_frame=True, return_X_y=True)\n",
    "df_adult.head() "
   ]
  },
  {
   "cell_type": "code",
   "execution_count": 12,
   "metadata": {},
   "outputs": [
    {
     "data": {
      "text/html": [
       "<div>\n",
       "<style scoped>\n",
       "    .dataframe tbody tr th:only-of-type {\n",
       "        vertical-align: middle;\n",
       "    }\n",
       "\n",
       "    .dataframe tbody tr th {\n",
       "        vertical-align: top;\n",
       "    }\n",
       "\n",
       "    .dataframe thead th {\n",
       "        text-align: right;\n",
       "    }\n",
       "</style>\n",
       "<table border=\"1\" class=\"dataframe\">\n",
       "  <thead>\n",
       "    <tr style=\"text-align: right;\">\n",
       "      <th></th>\n",
       "      <th>age</th>\n",
       "      <th>workclass</th>\n",
       "      <th>fnlwgt</th>\n",
       "      <th>education</th>\n",
       "      <th>education-num</th>\n",
       "      <th>marital-status</th>\n",
       "      <th>occupation</th>\n",
       "      <th>relationship</th>\n",
       "      <th>race</th>\n",
       "      <th>sex</th>\n",
       "      <th>capital-gain</th>\n",
       "      <th>capital-loss</th>\n",
       "      <th>hours-per-week</th>\n",
       "      <th>native-country</th>\n",
       "    </tr>\n",
       "  </thead>\n",
       "  <tbody>\n",
       "    <tr>\n",
       "      <th>3582</th>\n",
       "      <td>29</td>\n",
       "      <td>Private</td>\n",
       "      <td>201101</td>\n",
       "      <td>HS-grad</td>\n",
       "      <td>9</td>\n",
       "      <td>Married-civ-spouse</td>\n",
       "      <td>Machine-op-inspct</td>\n",
       "      <td>Husband</td>\n",
       "      <td>White</td>\n",
       "      <td>Male</td>\n",
       "      <td>0</td>\n",
       "      <td>0</td>\n",
       "      <td>50</td>\n",
       "      <td>United-States</td>\n",
       "    </tr>\n",
       "    <tr>\n",
       "      <th>27844</th>\n",
       "      <td>23</td>\n",
       "      <td>Private</td>\n",
       "      <td>188950</td>\n",
       "      <td>Assoc-voc</td>\n",
       "      <td>11</td>\n",
       "      <td>Never-married</td>\n",
       "      <td>Sales</td>\n",
       "      <td>Own-child</td>\n",
       "      <td>White</td>\n",
       "      <td>Male</td>\n",
       "      <td>0</td>\n",
       "      <td>0</td>\n",
       "      <td>40</td>\n",
       "      <td>United-States</td>\n",
       "    </tr>\n",
       "    <tr>\n",
       "      <th>39877</th>\n",
       "      <td>24</td>\n",
       "      <td>Private</td>\n",
       "      <td>282604</td>\n",
       "      <td>Some-college</td>\n",
       "      <td>10</td>\n",
       "      <td>Married-civ-spouse</td>\n",
       "      <td>Protective-serv</td>\n",
       "      <td>Other-relative</td>\n",
       "      <td>White</td>\n",
       "      <td>Male</td>\n",
       "      <td>0</td>\n",
       "      <td>0</td>\n",
       "      <td>24</td>\n",
       "      <td>United-States</td>\n",
       "    </tr>\n",
       "    <tr>\n",
       "      <th>42144</th>\n",
       "      <td>29</td>\n",
       "      <td>Private</td>\n",
       "      <td>174419</td>\n",
       "      <td>HS-grad</td>\n",
       "      <td>9</td>\n",
       "      <td>Never-married</td>\n",
       "      <td>Other-service</td>\n",
       "      <td>Unmarried</td>\n",
       "      <td>White</td>\n",
       "      <td>Female</td>\n",
       "      <td>0</td>\n",
       "      <td>0</td>\n",
       "      <td>30</td>\n",
       "      <td>United-States</td>\n",
       "    </tr>\n",
       "    <tr>\n",
       "      <th>27199</th>\n",
       "      <td>20</td>\n",
       "      <td>Private</td>\n",
       "      <td>236592</td>\n",
       "      <td>12th</td>\n",
       "      <td>8</td>\n",
       "      <td>Never-married</td>\n",
       "      <td>Prof-specialty</td>\n",
       "      <td>Not-in-family</td>\n",
       "      <td>White</td>\n",
       "      <td>Female</td>\n",
       "      <td>0</td>\n",
       "      <td>0</td>\n",
       "      <td>35</td>\n",
       "      <td>Italy</td>\n",
       "    </tr>\n",
       "  </tbody>\n",
       "</table>\n",
       "</div>"
      ],
      "text/plain": [
       "       age workclass  fnlwgt     education  education-num      marital-status  \\\n",
       "3582    29   Private  201101       HS-grad              9  Married-civ-spouse   \n",
       "27844   23   Private  188950     Assoc-voc             11       Never-married   \n",
       "39877   24   Private  282604  Some-college             10  Married-civ-spouse   \n",
       "42144   29   Private  174419       HS-grad              9       Never-married   \n",
       "27199   20   Private  236592          12th              8       Never-married   \n",
       "\n",
       "              occupation    relationship   race     sex  capital-gain  \\\n",
       "3582   Machine-op-inspct         Husband  White    Male             0   \n",
       "27844              Sales       Own-child  White    Male             0   \n",
       "39877    Protective-serv  Other-relative  White    Male             0   \n",
       "42144      Other-service       Unmarried  White  Female             0   \n",
       "27199     Prof-specialty   Not-in-family  White  Female             0   \n",
       "\n",
       "       capital-loss  hours-per-week native-country  \n",
       "3582              0              50  United-States  \n",
       "27844             0              40  United-States  \n",
       "39877             0              24  United-States  \n",
       "42144             0              30  United-States  \n",
       "27199             0              35          Italy  "
      ]
     },
     "execution_count": 12,
     "metadata": {},
     "output_type": "execute_result"
    }
   ],
   "source": [
    "df_resampled, y_resampled = rus.fit_resample(df_adult, y_adult)\n",
    "df_resampled.head()  "
   ]
  },
  {
   "cell_type": "markdown",
   "metadata": {},
   "source": [
    "`NearMiss` adds some heuristic rules to select samples [MZ03](https://imbalanced-learn.org/stable/zzz_references.html#id2). `NearMiss` implements 3 different types of heuristic which can be selected with the parameter version:"
   ]
  },
  {
   "cell_type": "code",
   "execution_count": 10,
   "metadata": {},
   "outputs": [
    {
     "name": "stdout",
     "output_type": "stream",
     "text": [
      "[(np.int64(0), 64), (np.int64(1), 64), (np.int64(2), 64)]\n"
     ]
    }
   ],
   "source": [
    "from imblearn.under_sampling import NearMiss\n",
    "nm1 = NearMiss(version=1)\n",
    "X_resampled_nm1, y_resampled = nm1.fit_resample(X, y)\n",
    "print(sorted(Counter(y_resampled).items()))"
   ]
  },
  {
   "cell_type": "markdown",
   "metadata": {},
   "source": [
    "`NearMiss` heuristic rules are based on nearest neighbors algorithm. \n",
    "Therefore, the parameters `n_neighbors` and `n_neighbors_ver3` accept classifier derived from `KNeighborsMixin` from scikit-learn. \n",
    "The former parameter is used to compute the average distance to the neighbors while the latter is used for the pre-selection of the samples of interest.\n"
   ]
  },
  {
   "cell_type": "markdown",
   "metadata": {},
   "source": [
    "When under-sampling a specific class, NearMiss-1 can be altered by the presence of noise.\n",
    " In fact, it will implied that samples of the targeted class will be selected around these samples as it is the case in the illustration below for the yellow class. \n",
    " However, in the normal case, samples next to the boundaries will be selected. \n",
    " NearMiss-2 will not have this effect since it does not focus on the nearest samples but rather on the farthest samples. \n",
    " We can imagine that the presence of noise can also altered the sampling mainly in the presence of marginal outliers. \n",
    " NearMiss-3 is probably the version which will be less affected by noise due to the first step sample selection.\n"
   ]
  },
  {
   "cell_type": "markdown",
   "metadata": {},
   "source": [
    "![](https://imbalanced-learn.org/stable/_images/sphx_glr_plot_comparison_under_sampling_003.png)"
   ]
  },
  {
   "cell_type": "markdown",
   "metadata": {},
   "source": [
    "### 3.2.2.1 Tomek's links"
   ]
  },
  {
   "cell_type": "markdown",
   "metadata": {},
   "source": [
    "Cleaning under-sampling methods “clean” the feature space by removing either “noisy” observations or observations that are “too easy to classify”, depending on the method. \n",
    "The final number of observations in each targeted class varies with the cleaning method and cannot be specified by the user.\n",
    "\n",
    "\n",
    "A Tomek’s link exists when two samples from different classes are closest neighbors to each other.\n",
    "\n",
    "Mathematically, a Tomek’s link between two samples from different classes \n",
    "x and y is defined such that for any sample z:\n",
    "\n",
    "d(x,y)< d(x,z) and d(x,y) < d(y,z)\n",
    "\n",
    "`TomekLinks` detects and removes Tomek’s links [Tom76b](https://imbalanced-learn.org/stable/zzz_references.html#id16). The underlying idea is that Tomek’s links are noisy or hard to classify observations and would not help the algorithm find a suitable discrimination boundary.\n",
    "\n",
    "![](https://imbalanced-learn.org/stable/_images/sphx_glr_plot_illustration_tomek_links_001.png)"
   ]
  },
  {
   "cell_type": "markdown",
   "metadata": {},
   "source": [
    "When `TomekLinks` finds a Tomek’s link, it can either remove the sample of the majority class, or both. \n",
    "The parameter `sampling_strategy` controls which samples from the link will be removed. \n",
    "By default (i.e., `sampling_strategy='auto'`), it will remove the sample from the majority class. \n",
    "Both samples, that is that from the majority and the one from the minority class, can be removed by setting `sampling_strategy` to `'all'`."
   ]
  },
  {
   "cell_type": "markdown",
   "metadata": {},
   "source": [
    "![](https://imbalanced-learn.org/stable/_images/sphx_glr_plot_illustration_tomek_links_002.png)"
   ]
  },
  {
   "cell_type": "markdown",
   "metadata": {},
   "source": [
    "### 3.2.2.2.2. Repeated Edited Nearest Neighbours"
   ]
  },
  {
   "cell_type": "markdown",
   "metadata": {},
   "source": [
    "#### 3.2.2.2.1. Edited nearest neighbours\n",
    "The edited nearest neighbours methodology uses K-Nearest Neighbours to identify the neighbours of the targeted class samples, and then removes observations if any or most of their neighbours are from a different class [Wil72](https://imbalanced-learn.org/stable/zzz_references.html#id17).\n",
    "\n",
    "`EditedNearestNeighbours` carries out the following steps:\n",
    "\n",
    "* Train a K-Nearest neighbours using the entire dataset.\n",
    "\n",
    "* Find each observations’ K closest neighbours (only for the targeted classes).\n",
    "\n",
    "Remove observations if any or most of its neighbours belong to a different class\n",
    "\n",
    "#### 3.2.2.2.2. Repeated Edited Nearest Neighbours\n",
    "\n",
    "`RepeatedEditedNearestNeighbours` extends `EditedNearestNeighbours` by repeating the algorithm multiple times [Tom76a](https://imbalanced-learn.org/stable/zzz_references.html#id18). Generally, repeating the algorithm will delete more data:\n",
    "\n",
    "The user can set up the number of times the edited nearest neighbours method should be repeated through the parameter `max_iter`.\n",
    "\n",
    "The repetitions will stop when:\n",
    "\n",
    "* the maximum number of iterations is reached, or\n",
    "\n",
    "* no more observations are removed, or\n",
    "\n",
    "* one of the majority classes becomes a minority class, or\n",
    "\n",
    "* one of the majority classes disappears during the undersampling.\n",
    "\n",
    "#### 3.2.2.2.3. All KNN\n",
    "\n",
    "`AllKNN` is a variation of the `RepeatedEditedNearestNeighbours` where the number of neighbours evaluated at each round of `EditedNearestNeighbours` increases. \n",
    "It starts by editing based on 1-Nearest Neighbour, and it increases the neighbourhood by 1 at each iteration [Tom76a](https://imbalanced-learn.org/stable/zzz_references.html#id18):\n",
    "\n",
    "\n",
    "\n"
   ]
  },
  {
   "cell_type": "markdown",
   "metadata": {},
   "source": [
    "![](https://imbalanced-learn.org/stable/_images/sphx_glr_plot_comparison_under_sampling_004.png)"
   ]
  },
  {
   "cell_type": "markdown",
   "metadata": {},
   "source": [
    "### 3.2.2.3. Condensed nearest neighbors\n",
    "\n",
    "`CondensedNearestNeighbour` uses a 1 nearest neighbor rule to iteratively decide if a sample should be removed [Har68](https://imbalanced-learn.org/stable/zzz_references.html#id19).\n",
    "The algorithm runs as follows:\n",
    "\n",
    "1. Get all minority samples in a set C \n",
    "\n",
    "\n",
    "2. Add a sample from the targeted class (class to be under-sampled) in C \n",
    " and all other samples of this class in a set S\n",
    "\n",
    "\n",
    "3. Train a 1-Nearest Neigbhour on C\n",
    "\n",
    "\n",
    "4. Go through the samples in set S \n",
    ", sample by sample, and classify each one using a 1 nearest neighbor rule (trained in 3).\n",
    "\n",
    "5. If the sample is misclassified, add it to C\n",
    ", and go to step 6.\n",
    "\n",
    "6. Repeat steps 3 to 5 until all observations in S\n",
    " have been examined.\n",
    "\n",
    "The final dataset is S\n",
    ", containing all observations from the minority class and those from the majority that were miss-classified by the successive 1-Nearest Neigbhour algorithms."
   ]
  },
  {
   "cell_type": "markdown",
   "metadata": {},
   "source": [
    "#### 3.2.2.3.1. One Sided Selection\n",
    "\n",
    "In an attempt to remove the noisy observations introduced by `CondensedNearestNeighbour`, `OneSidedSelection` will first find the observations that are hard to classify, and then will use `TomekLinks` to remove noisy samples [Har68](https://imbalanced-learn.org/stable/zzz_references.html#id19). \n",
    "`OneSidedSelection` runs as follows:\n",
    "\n",
    "1. Get all minority samples in a set C\n",
    "\n",
    "\n",
    "2. Add a sample from the targeted class (class to be under-sampled) in C\n",
    " and all other samples of this class in a set S\n",
    "\n",
    "\n",
    "3. Train a 1-Nearest Neighbors on C\n",
    "\n",
    "\n",
    "4. Using a 1 nearest neighbor rule trained in 3, classify all samples in set  S\n",
    "\n",
    "\n",
    "5. Add all misclassified samples to C\n",
    "\n",
    "\n",
    "6. Remove Tomek Links from C\n"
   ]
  },
  {
   "cell_type": "markdown",
   "metadata": {},
   "source": [
    "`NeighbourhoodCleaningRule` will focus on cleaning the data than condensing them [Lau01](https://imbalanced-learn.org/stable/zzz_references.html#id20). \n",
    "Therefore, it will used the union of samples to be rejected between the `EditedNearestNeighbours` and the output a 3 nearest neighbors classifier. \n",
    "\n",
    "![](https://imbalanced-learn.org/stable/_images/sphx_glr_plot_comparison_under_sampling_005.png)"
   ]
  },
  {
   "cell_type": "markdown",
   "metadata": {},
   "source": [
    "#### 3.2.3.1. Instance hardness threshold\n",
    "Instance Hardness is a measure of how difficult it is to classify an instance or observation correctly. In other words, hard instances are observations that are hard to classify correctly.\n",
    "\n",
    "Fundamentally, instances that are hard to classify correctly are those for which the learning algorithm or classifier produces a low probability of predicting the correct class label.\n",
    "\n",
    "If we removed these hard instances from the dataset, the logic goes, we would help the classifier better identify the different classes [SMGC14](https://imbalanced-learn.org/stable/zzz_references.html#id21)\n",
    "\n",
    "`InstanceHardnessThreshold` trains a classifier on the data and then removes the samples with lower probabilities [SMGC14](https://imbalanced-learn.org/stable/zzz_references.html#id21). Or in other words, it retains the observations with the higher class probabilities."
   ]
  },
  {
   "cell_type": "markdown",
   "metadata": {},
   "source": [
    "![](https://imbalanced-learn.org/stable/_images/sphx_glr_plot_comparison_under_sampling_006.png)"
   ]
  },
  {
   "cell_type": "code",
   "execution_count": null,
   "metadata": {},
   "outputs": [],
   "source": []
  }
 ],
 "metadata": {
  "kernelspec": {
   "display_name": "decision_trees_practice",
   "language": "python",
   "name": "python3"
  },
  "language_info": {
   "codemirror_mode": {
    "name": "ipython",
    "version": 3
   },
   "file_extension": ".py",
   "mimetype": "text/x-python",
   "name": "python",
   "nbconvert_exporter": "python",
   "pygments_lexer": "ipython3",
   "version": "3.9.20"
  }
 },
 "nbformat": 4,
 "nbformat_minor": 2
}
